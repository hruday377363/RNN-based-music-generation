{
 "cells": [
  {
   "cell_type": "markdown",
   "metadata": {
    "id": "3KGYh79tkVTv"
   },
   "source": [
    "Student Name :  **A R HRUDAYABHIRAM**\n",
    "\n",
    "Anna University register Number : **au211521243019**\n",
    "\n",
    "College: **Panimalar Institute of Technology**\n",
    "\n",
    "mail id : hruday462003@gmail.com\n",
    "\n",
    "##Title: **Music Generation Using RNN**"
   ]
  },
  {
   "cell_type": "markdown",
   "metadata": {
    "id": "lFZCCZaVAXxb"
   },
   "source": [
    "# **Generate music with an RNN**\n",
    "\n",
    "TO generate musical notes using a simple recurrent neural network (RNN). You will train a model using a collection of piano MIDI files from the MAESTRO dataset. Given a sequence of notes, your model will learn to predict the next note in the sequence. You can generate longer sequences of notes by calling the model repeatedly.\n",
    "\n",
    "The complete code to parse and create MIDI files is given below\n",
    "\n",
    "# Setup\n",
    "we use the pretty_midi library to create and parse MIDI files, and pyfluidsynth for generating audio playback in Colab."
   ]
  },
  {
   "cell_type": "code",
   "execution_count": 2,
   "metadata": {
    "_cell_guid": "b1076dfc-b9ad-4769-8c92-a6c4dae69d19",
    "_uuid": "8f2839f25d086af736a60e9eeb907d3b93b6e0e5",
    "colab": {
     "base_uri": "https://localhost:8080/"
    },
    "id": "cG-7p0DeAXxq",
    "outputId": "4cdbd960-1343-4c2b-ff77-d4b319d41004"
   },
   "outputs": [
    {
     "name": "stderr",
     "output_type": "stream",
     "text": [
      "WARNING: Retrying (Retry(total=4, connect=None, read=None, redirect=None, status=None)) after connection broken by 'NewConnectionError('<pip._vendor.urllib3.connection.HTTPSConnection object at 0x0000022EDCAF1890>: Failed to establish a new connection: [Errno 11001] getaddrinfo failed')': /simple/fluidsynth/\n",
      "WARNING: Retrying (Retry(total=3, connect=None, read=None, redirect=None, status=None)) after connection broken by 'NewConnectionError('<pip._vendor.urllib3.connection.HTTPSConnection object at 0x0000022EDCAE7410>: Failed to establish a new connection: [Errno 11001] getaddrinfo failed')': /simple/fluidsynth/\n",
      "WARNING: Retrying (Retry(total=2, connect=None, read=None, redirect=None, status=None)) after connection broken by 'NewConnectionError('<pip._vendor.urllib3.connection.HTTPSConnection object at 0x0000022EDCB1CE10>: Failed to establish a new connection: [Errno 11001] getaddrinfo failed')': /simple/fluidsynth/\n",
      "WARNING: Retrying (Retry(total=1, connect=None, read=None, redirect=None, status=None)) after connection broken by 'NewConnectionError('<pip._vendor.urllib3.connection.HTTPSConnection object at 0x0000022EDCADBA50>: Failed to establish a new connection: [Errno 11001] getaddrinfo failed')': /simple/fluidsynth/\n",
      "WARNING: Retrying (Retry(total=0, connect=None, read=None, redirect=None, status=None)) after connection broken by 'NewConnectionError('<pip._vendor.urllib3.connection.HTTPSConnection object at 0x0000022EDCB01B50>: Failed to establish a new connection: [Errno 11001] getaddrinfo failed')': /simple/fluidsynth/\n",
      "ERROR: Could not find a version that satisfies the requirement fluidsynth (from versions: none)\n",
      "ERROR: No matching distribution found for fluidsynth\n",
      "WARNING: Retrying (Retry(total=4, connect=None, read=None, redirect=None, status=None)) after connection broken by 'NewConnectionError('<pip._vendor.urllib3.connection.HTTPSConnection object at 0x000002E7FF7AD950>: Failed to establish a new connection: [Errno 11001] getaddrinfo failed')': /simple/pretty-midi/\n",
      "WARNING: Retrying (Retry(total=3, connect=None, read=None, redirect=None, status=None)) after connection broken by 'NewConnectionError('<pip._vendor.urllib3.connection.HTTPSConnection object at 0x000002E7FF7C1F10>: Failed to establish a new connection: [Errno 11001] getaddrinfo failed')': /simple/pretty-midi/\n",
      "WARNING: Retrying (Retry(total=2, connect=None, read=None, redirect=None, status=None)) after connection broken by 'NewConnectionError('<pip._vendor.urllib3.connection.HTTPSConnection object at 0x000002E7FF7C0490>: Failed to establish a new connection: [Errno 11001] getaddrinfo failed')': /simple/pretty-midi/\n",
      "WARNING: Retrying (Retry(total=1, connect=None, read=None, redirect=None, status=None)) after connection broken by 'NewConnectionError('<pip._vendor.urllib3.connection.HTTPSConnection object at 0x000002E7FF7C32D0>: Failed to establish a new connection: [Errno 11001] getaddrinfo failed')': /simple/pretty-midi/\n",
      "WARNING: Retrying (Retry(total=0, connect=None, read=None, redirect=None, status=None)) after connection broken by 'NewConnectionError('<pip._vendor.urllib3.connection.HTTPSConnection object at 0x000002E7FF7C3C90>: Failed to establish a new connection: [Errno 11001] getaddrinfo failed')': /simple/pretty-midi/\n",
      "ERROR: Could not find a version that satisfies the requirement pretty_midi (from versions: none)\n",
      "ERROR: No matching distribution found for pretty_midi\n",
      "WARNING: Retrying (Retry(total=4, connect=None, read=None, redirect=None, status=None)) after connection broken by 'NewConnectionError('<pip._vendor.urllib3.connection.HTTPSConnection object at 0x000001A952E3C290>: Failed to establish a new connection: [Errno 11001] getaddrinfo failed')': /simple/pyfluidsynth/\n",
      "WARNING: Retrying (Retry(total=3, connect=None, read=None, redirect=None, status=None)) after connection broken by 'NewConnectionError('<pip._vendor.urllib3.connection.HTTPSConnection object at 0x000001A952E4A290>: Failed to establish a new connection: [Errno 11001] getaddrinfo failed')': /simple/pyfluidsynth/\n",
      "WARNING: Retrying (Retry(total=2, connect=None, read=None, redirect=None, status=None)) after connection broken by 'NewConnectionError('<pip._vendor.urllib3.connection.HTTPSConnection object at 0x000001A952E48C10>: Failed to establish a new connection: [Errno 11001] getaddrinfo failed')': /simple/pyfluidsynth/\n",
      "WARNING: Retrying (Retry(total=1, connect=None, read=None, redirect=None, status=None)) after connection broken by 'NewConnectionError('<pip._vendor.urllib3.connection.HTTPSConnection object at 0x000001A952E57AD0>: Failed to establish a new connection: [Errno 11001] getaddrinfo failed')': /simple/pyfluidsynth/\n",
      "WARNING: Retrying (Retry(total=0, connect=None, read=None, redirect=None, status=None)) after connection broken by 'NewConnectionError('<pip._vendor.urllib3.connection.HTTPSConnection object at 0x000001A952E59150>: Failed to establish a new connection: [Errno 11001] getaddrinfo failed')': /simple/pyfluidsynth/\n",
      "ERROR: Could not find a version that satisfies the requirement pyfluidsynth (from versions: none)\n",
      "ERROR: No matching distribution found for pyfluidsynth\n"
     ]
    }
   ],
   "source": [
    "!pip install fluidsynth\n",
    "!pip install pretty_midi\n",
    "!pip install --upgrade pyfluidsynth\n"
   ]
  },
  {
   "cell_type": "code",
   "execution_count": null,
   "metadata": {
    "execution": {
     "iopub.execute_input": "2022-12-02T13:23:32.352178Z",
     "iopub.status.busy": "2022-12-02T13:23:32.351772Z",
     "iopub.status.idle": "2022-12-02T13:23:37.010009Z",
     "shell.execute_reply": "2022-12-02T13:23:37.009002Z",
     "shell.execute_reply.started": "2022-12-02T13:23:32.352138Z"
    },
    "id": "F2uuX0QqAXxu"
   },
   "outputs": [],
   "source": [
    "import collections\n",
    "import datetime\n",
    "import fluidsynth\n",
    "import glob\n",
    "import numpy as np\n",
    "import pathlib\n",
    "import pandas as pd\n",
    "import pretty_midi\n",
    "import seaborn as sns\n",
    "import tensorflow as tf\n",
    "\n",
    "from IPython import display\n",
    "from matplotlib import pyplot as plt\n",
    "from typing import Dict, List, Optional, Sequence, Tuple"
   ]
  },
  {
   "cell_type": "code",
   "execution_count": null,
   "metadata": {
    "execution": {
     "iopub.execute_input": "2022-12-02T13:23:37.012099Z",
     "iopub.status.busy": "2022-12-02T13:23:37.011467Z",
     "iopub.status.idle": "2022-12-02T13:23:37.018086Z",
     "shell.execute_reply": "2022-12-02T13:23:37.016544Z",
     "shell.execute_reply.started": "2022-12-02T13:23:37.012061Z"
    },
    "id": "gy144EOzAXxw"
   },
   "outputs": [],
   "source": [
    "seed = 42\n",
    "tf.random.set_seed(seed)\n",
    "np.random.seed(seed)\n",
    "\n",
    "# Sampling rate for audio playback\n",
    "_SAMPLING_RATE = 16000"
   ]
  },
  {
   "cell_type": "markdown",
   "metadata": {
    "id": "UjX2V_D2AXxy"
   },
   "source": [
    "Download the Maestro dataset"
   ]
  },
  {
   "cell_type": "code",
   "execution_count": null,
   "metadata": {
    "colab": {
     "base_uri": "https://localhost:8080/"
    },
    "execution": {
     "iopub.execute_input": "2022-12-02T13:23:37.019823Z",
     "iopub.status.busy": "2022-12-02T13:23:37.019353Z",
     "iopub.status.idle": "2022-12-02T13:23:42.943502Z",
     "shell.execute_reply": "2022-12-02T13:23:42.942354Z",
     "shell.execute_reply.started": "2022-12-02T13:23:37.019687Z"
    },
    "id": "SEBOWziOAXx0",
    "outputId": "7312324a-1c12-4a68-c5cd-065aa200623c"
   },
   "outputs": [
    {
     "name": "stdout",
     "output_type": "stream",
     "text": [
      "Downloading data from https://storage.googleapis.com/magentadata/datasets/maestro/v2.0.0/maestro-v2.0.0-midi.zip\n",
      "59243107/59243107 [==============================] - 0s 0us/step\n"
     ]
    }
   ],
   "source": [
    "data_dir = pathlib.Path('data/maestro-v2.0.0')\n",
    "if not data_dir.exists():\n",
    "  tf.keras.utils.get_file(\n",
    "      'maestro-v2.0.0-midi.zip',\n",
    "      origin='https://storage.googleapis.com/magentadata/datasets/maestro/v2.0.0/maestro-v2.0.0-midi.zip',\n",
    "      extract=True,\n",
    "      cache_dir='.', cache_subdir='data',\n",
    "  )"
   ]
  },
  {
   "cell_type": "markdown",
   "metadata": {
    "id": "t7ZV649qAXx1"
   },
   "source": [
    "The dataset contains about 1,200 MIDI files.\n",
    "\n"
   ]
  },
  {
   "cell_type": "code",
   "execution_count": null,
   "metadata": {
    "colab": {
     "base_uri": "https://localhost:8080/"
    },
    "execution": {
     "iopub.execute_input": "2022-12-02T13:23:42.945392Z",
     "iopub.status.busy": "2022-12-02T13:23:42.945028Z",
     "iopub.status.idle": "2022-12-02T13:23:42.958843Z",
     "shell.execute_reply": "2022-12-02T13:23:42.957938Z",
     "shell.execute_reply.started": "2022-12-02T13:23:42.945352Z"
    },
    "id": "wvCyTMViAXx3",
    "outputId": "952da6b7-82aa-4c8a-d3ca-2569fd6caf81"
   },
   "outputs": [
    {
     "name": "stdout",
     "output_type": "stream",
     "text": [
      "Number of files: 1282\n"
     ]
    }
   ],
   "source": [
    "filenames = glob.glob(str(data_dir/'**/*.mid*'))\n",
    "print('Number of files:', len(filenames))"
   ]
  },
  {
   "cell_type": "markdown",
   "metadata": {
    "id": "QhtErereAXx4"
   },
   "source": [
    "# **Process a MIDI file**\n",
    "First, use pretty_midi to parse a single MIDI file and inspect the format of the notes. If you would like to download the MIDI file below to play on your computer, you can do so in colab by writing"
   ]
  },
  {
   "cell_type": "code",
   "execution_count": null,
   "metadata": {
    "colab": {
     "base_uri": "https://localhost:8080/"
    },
    "execution": {
     "iopub.execute_input": "2022-12-02T13:23:42.963453Z",
     "iopub.status.busy": "2022-12-02T13:23:42.963139Z",
     "iopub.status.idle": "2022-12-02T13:23:42.970131Z",
     "shell.execute_reply": "2022-12-02T13:23:42.969176Z",
     "shell.execute_reply.started": "2022-12-02T13:23:42.963424Z"
    },
    "id": "_9Kxar0mAXx5",
    "outputId": "50387c87-9229-4187-de00-6353ae412ff8"
   },
   "outputs": [
    {
     "name": "stdout",
     "output_type": "stream",
     "text": [
      "data/maestro-v2.0.0/2011/MIDI-Unprocessed_14_R1_2011_MID--AUDIO_R1-D6_02_Track02_wav.midi\n"
     ]
    }
   ],
   "source": [
    "sample_file = filenames[3]\n",
    "print(sample_file)"
   ]
  },
  {
   "cell_type": "markdown",
   "metadata": {
    "id": "atV8nbnoAXx6"
   },
   "source": [
    "Generate a PrettyMIDI object for the sample MIDI file.\n",
    "\n"
   ]
  },
  {
   "cell_type": "code",
   "execution_count": null,
   "metadata": {
    "execution": {
     "iopub.execute_input": "2022-12-02T13:23:42.972067Z",
     "iopub.status.busy": "2022-12-02T13:23:42.971469Z",
     "iopub.status.idle": "2022-12-02T13:23:43.597997Z",
     "shell.execute_reply": "2022-12-02T13:23:43.596975Z",
     "shell.execute_reply.started": "2022-12-02T13:23:42.972031Z"
    },
    "id": "GsG34rQiAXx6"
   },
   "outputs": [],
   "source": [
    "pm = pretty_midi.PrettyMIDI(sample_file)"
   ]
  },
  {
   "cell_type": "markdown",
   "metadata": {
    "id": "0VBLRx0EAXx7"
   },
   "source": [
    "Play the sample file. The playback widget may take several seconds to load.\n",
    "\n"
   ]
  },
  {
   "cell_type": "code",
   "execution_count": null,
   "metadata": {
    "execution": {
     "iopub.execute_input": "2022-12-02T13:23:43.599881Z",
     "iopub.status.busy": "2022-12-02T13:23:43.599408Z",
     "iopub.status.idle": "2022-12-02T13:23:43.606045Z",
     "shell.execute_reply": "2022-12-02T13:23:43.604991Z",
     "shell.execute_reply.started": "2022-12-02T13:23:43.599839Z"
    },
    "id": "eKZbjeFCAXx8"
   },
   "outputs": [],
   "source": [
    "def display_audio(pm: pretty_midi.PrettyMIDI, seconds=30):\n",
    "    waveform = pm.fluidsynth(fs=_SAMPLING_RATE)\n",
    "    # Take a sample of the generated waveform to mitigate kernel resets\n",
    "    waveform_short = waveform[:seconds*_SAMPLING_RATE]\n",
    "    return display.Audio(waveform_short, rate=_SAMPLING_RATE)"
   ]
  },
  {
   "cell_type": "code",
   "execution_count": null,
   "metadata": {
    "colab": {
     "base_uri": "https://localhost:8080/"
    },
    "execution": {
     "iopub.execute_input": "2022-12-02T13:23:43.608252Z",
     "iopub.status.busy": "2022-12-02T13:23:43.607486Z",
     "iopub.status.idle": "2022-12-02T13:23:43.618762Z",
     "shell.execute_reply": "2022-12-02T13:23:43.617545Z",
     "shell.execute_reply.started": "2022-12-02T13:23:43.608216Z"
    },
    "id": "Z2x9dK_pAXx8",
    "outputId": "fb9c224b-5845-4aea-ba79-0bef879334da"
   },
   "outputs": [
    {
     "data": {
      "text/plain": [
       "<pretty_midi.pretty_midi.PrettyMIDI at 0x7d296267cf70>"
      ]
     },
     "execution_count": 9,
     "metadata": {},
     "output_type": "execute_result"
    }
   ],
   "source": [
    "pm"
   ]
  },
  {
   "cell_type": "code",
   "execution_count": null,
   "metadata": {
    "execution": {
     "iopub.execute_input": "2022-12-02T13:23:43.620991Z",
     "iopub.status.busy": "2022-12-02T13:23:43.620459Z",
     "iopub.status.idle": "2022-12-02T13:23:43.626257Z",
     "shell.execute_reply": "2022-12-02T13:23:43.625237Z",
     "shell.execute_reply.started": "2022-12-02T13:23:43.620957Z"
    },
    "id": "EXx95HqfAXx9"
   },
   "outputs": [],
   "source": [
    "# display_audio(pm)"
   ]
  },
  {
   "cell_type": "markdown",
   "metadata": {
    "id": "9RPbMh8NAXx-"
   },
   "source": [
    "Do some inspection on the MIDI file. What kinds of instruments are used?\n",
    "\n"
   ]
  },
  {
   "cell_type": "code",
   "execution_count": null,
   "metadata": {
    "colab": {
     "base_uri": "https://localhost:8080/"
    },
    "execution": {
     "iopub.execute_input": "2022-12-02T13:23:43.629099Z",
     "iopub.status.busy": "2022-12-02T13:23:43.628193Z",
     "iopub.status.idle": "2022-12-02T13:23:43.637121Z",
     "shell.execute_reply": "2022-12-02T13:23:43.635971Z",
     "shell.execute_reply.started": "2022-12-02T13:23:43.629065Z"
    },
    "id": "2wEebdc9AXx_",
    "outputId": "46e728c8-bc1b-46dc-fcd4-2a053d2a59eb"
   },
   "outputs": [
    {
     "name": "stdout",
     "output_type": "stream",
     "text": [
      "Number of instruments: 1\n",
      "Instrument name: Acoustic Grand Piano\n"
     ]
    }
   ],
   "source": [
    "print('Number of instruments:', len(pm.instruments))\n",
    "instrument = pm.instruments[0]\n",
    "instrument_name = pretty_midi.program_to_instrument_name(instrument.program)\n",
    "print('Instrument name:', instrument_name)"
   ]
  },
  {
   "cell_type": "markdown",
   "metadata": {
    "id": "5luKfCChAXyA"
   },
   "source": [
    "Extract notes"
   ]
  },
  {
   "cell_type": "markdown",
   "metadata": {
    "id": "JeE0P08dAXyB"
   },
   "source": [
    "pitch : https://www.youtube.com/watch?v=E-rbBIAoO34\n"
   ]
  },
  {
   "cell_type": "code",
   "execution_count": null,
   "metadata": {
    "colab": {
     "base_uri": "https://localhost:8080/"
    },
    "execution": {
     "iopub.execute_input": "2022-12-02T13:23:43.639305Z",
     "iopub.status.busy": "2022-12-02T13:23:43.638465Z",
     "iopub.status.idle": "2022-12-02T13:23:43.646432Z",
     "shell.execute_reply": "2022-12-02T13:23:43.645409Z",
     "shell.execute_reply.started": "2022-12-02T13:23:43.639268Z"
    },
    "id": "JcKJ8zhuAXyB",
    "outputId": "939f45b5-d465-4bb5-ef6d-d6eeba0236f4"
   },
   "outputs": [
    {
     "name": "stdout",
     "output_type": "stream",
     "text": [
      "0: pitch=50, note_name=D3, duration=0.0677\n",
      "1: pitch=49, note_name=C#3, duration=0.0990\n",
      "2: pitch=74, note_name=D5, duration=0.3073\n",
      "3: pitch=72, note_name=C5, duration=0.1406\n",
      "4: pitch=50, note_name=D3, duration=0.3750\n",
      "5: pitch=70, note_name=A#4, duration=0.1549\n",
      "6: pitch=69, note_name=A4, duration=0.1120\n",
      "7: pitch=67, note_name=G4, duration=0.1393\n",
      "8: pitch=65, note_name=F4, duration=0.1367\n",
      "9: pitch=64, note_name=E4, duration=0.1133\n"
     ]
    }
   ],
   "source": [
    "for i, note in enumerate(instrument.notes[:10]):\n",
    "  note_name = pretty_midi.note_number_to_name(note.pitch)\n",
    "  duration = note.end - note.start\n",
    "  print(f'{i}: pitch={note.pitch}, note_name={note_name},'\n",
    "        f' duration={duration:.4f}')"
   ]
  },
  {
   "cell_type": "markdown",
   "metadata": {
    "id": "kH5esJXzAXyC"
   },
   "source": [
    "You will use three variables to represent a note when training the model: pitch, step and duration. The pitch is the perceptual quality of the sound as a MIDI note number. The step is the time elapsed from the previous note or start of the track. The duration is how long the note will be playing in seconds and is the difference between the note end and note start times.\n",
    "\n",
    "Extract the notes from the sample MIDI file."
   ]
  },
  {
   "cell_type": "code",
   "execution_count": null,
   "metadata": {
    "execution": {
     "iopub.execute_input": "2022-12-02T13:23:43.648776Z",
     "iopub.status.busy": "2022-12-02T13:23:43.647852Z",
     "iopub.status.idle": "2022-12-02T13:23:43.657323Z",
     "shell.execute_reply": "2022-12-02T13:23:43.656306Z",
     "shell.execute_reply.started": "2022-12-02T13:23:43.64874Z"
    },
    "id": "N5XSFsXhAXyD"
   },
   "outputs": [],
   "source": [
    "def midi_to_notes(midi_file: str) -> pd.DataFrame:\n",
    "    pm = pretty_midi.PrettyMIDI(midi_file)\n",
    "    instrument = pm.instruments[0]\n",
    "    notes = collections.defaultdict(list)\n",
    "\n",
    "    # Sort the notes by start time\n",
    "    sorted_notes = sorted(instrument.notes, key=lambda note: note.start)\n",
    "    prev_start = sorted_notes[0].start\n",
    "\n",
    "    for note in sorted_notes:\n",
    "        start = note.start\n",
    "        end = note.end\n",
    "        notes['pitch'].append(note.pitch)\n",
    "        notes['start'].append(start)\n",
    "        notes['end'].append(end)\n",
    "        notes['step'].append(start - prev_start)\n",
    "        notes['duration'].append(end - start)\n",
    "        prev_start = start\n",
    "\n",
    "    return pd.DataFrame({name: np.array(value) for name, value in notes.items()})"
   ]
  },
  {
   "cell_type": "code",
   "execution_count": null,
   "metadata": {
    "colab": {
     "base_uri": "https://localhost:8080/",
     "height": 206
    },
    "execution": {
     "iopub.execute_input": "2022-12-02T13:23:43.660152Z",
     "iopub.status.busy": "2022-12-02T13:23:43.659344Z",
     "iopub.status.idle": "2022-12-02T13:23:44.403034Z",
     "shell.execute_reply": "2022-12-02T13:23:44.401838Z",
     "shell.execute_reply.started": "2022-12-02T13:23:43.660087Z"
    },
    "id": "FhWST-4IAXyD",
    "outputId": "878c199c-5801-4d42-d744-c977e8576d47"
   },
   "outputs": [
    {
     "data": {
      "application/vnd.google.colaboratory.intrinsic+json": {
       "summary": "{\n  \"name\": \"raw_notes\",\n  \"rows\": 1909,\n  \"fields\": [\n    {\n      \"column\": \"pitch\",\n      \"properties\": {\n        \"dtype\": \"number\",\n        \"std\": 9,\n        \"min\": 37,\n        \"max\": 83,\n        \"num_unique_values\": 46,\n        \"samples\": [\n          56,\n          71,\n          77\n        ],\n        \"semantic_type\": \"\",\n        \"description\": \"\"\n      }\n    },\n    {\n      \"column\": \"start\",\n      \"properties\": {\n        \"dtype\": \"number\",\n        \"std\": 66.19530185379297,\n        \"min\": 0.6145833333333333,\n        \"max\": 225.08984375,\n        \"num_unique_values\": 1882,\n        \"samples\": [\n          171.39322916666666,\n          131.57291666666666,\n          66.859375\n        ],\n        \"semantic_type\": \"\",\n        \"description\": \"\"\n      }\n    },\n    {\n      \"column\": \"end\",\n      \"properties\": {\n        \"dtype\": \"number\",\n        \"std\": 66.32057125191001,\n        \"min\": 0.6822916666666666,\n        \"max\": 228.734375,\n        \"num_unique_values\": 1899,\n        \"samples\": [\n          125.81119791666666,\n          10.2265625,\n          46.283854166666664\n        ],\n        \"semantic_type\": \"\",\n        \"description\": \"\"\n      }\n    },\n    {\n      \"column\": \"step\",\n      \"properties\": {\n        \"dtype\": \"number\",\n        \"std\": 0.19272068245662,\n        \"min\": 0.0,\n        \"max\": 6.958333333333343,\n        \"num_unique_values\": 568,\n        \"samples\": [\n          0.1002604166666643,\n          0.13151041666666785,\n          0.0065104166666660745\n        ],\n        \"semantic_type\": \"\",\n        \"description\": \"\"\n      }\n    },\n    {\n      \"column\": \"duration\",\n      \"properties\": {\n        \"dtype\": \"number\",\n        \"std\": 0.2887817966319971,\n        \"min\": 0.0013020833333428072,\n        \"max\": 3.64453125,\n        \"num_unique_values\": 803,\n        \"samples\": [\n          0.0625,\n          0.09244791666665719,\n          0.1028645833333357\n        ],\n        \"semantic_type\": \"\",\n        \"description\": \"\"\n      }\n    }\n  ]\n}",
       "type": "dataframe",
       "variable_name": "raw_notes"
      },
      "text/html": [
       "\n",
       "  <div id=\"df-f852a327-78ac-4c86-8976-b9ef5c2f1488\" class=\"colab-df-container\">\n",
       "    <div>\n",
       "<style scoped>\n",
       "    .dataframe tbody tr th:only-of-type {\n",
       "        vertical-align: middle;\n",
       "    }\n",
       "\n",
       "    .dataframe tbody tr th {\n",
       "        vertical-align: top;\n",
       "    }\n",
       "\n",
       "    .dataframe thead th {\n",
       "        text-align: right;\n",
       "    }\n",
       "</style>\n",
       "<table border=\"1\" class=\"dataframe\">\n",
       "  <thead>\n",
       "    <tr style=\"text-align: right;\">\n",
       "      <th></th>\n",
       "      <th>pitch</th>\n",
       "      <th>start</th>\n",
       "      <th>end</th>\n",
       "      <th>step</th>\n",
       "      <th>duration</th>\n",
       "    </tr>\n",
       "  </thead>\n",
       "  <tbody>\n",
       "    <tr>\n",
       "      <th>0</th>\n",
       "      <td>50</td>\n",
       "      <td>0.614583</td>\n",
       "      <td>0.682292</td>\n",
       "      <td>0.000000</td>\n",
       "      <td>0.067708</td>\n",
       "    </tr>\n",
       "    <tr>\n",
       "      <th>1</th>\n",
       "      <td>74</td>\n",
       "      <td>0.626302</td>\n",
       "      <td>0.933594</td>\n",
       "      <td>0.011719</td>\n",
       "      <td>0.307292</td>\n",
       "    </tr>\n",
       "    <tr>\n",
       "      <th>2</th>\n",
       "      <td>49</td>\n",
       "      <td>0.670573</td>\n",
       "      <td>0.769531</td>\n",
       "      <td>0.044271</td>\n",
       "      <td>0.098958</td>\n",
       "    </tr>\n",
       "    <tr>\n",
       "      <th>3</th>\n",
       "      <td>50</td>\n",
       "      <td>0.757812</td>\n",
       "      <td>1.132812</td>\n",
       "      <td>0.087240</td>\n",
       "      <td>0.375000</td>\n",
       "    </tr>\n",
       "    <tr>\n",
       "      <th>4</th>\n",
       "      <td>72</td>\n",
       "      <td>0.899740</td>\n",
       "      <td>1.040365</td>\n",
       "      <td>0.141927</td>\n",
       "      <td>0.140625</td>\n",
       "    </tr>\n",
       "  </tbody>\n",
       "</table>\n",
       "</div>\n",
       "    <div class=\"colab-df-buttons\">\n",
       "\n",
       "  <div class=\"colab-df-container\">\n",
       "    <button class=\"colab-df-convert\" onclick=\"convertToInteractive('df-f852a327-78ac-4c86-8976-b9ef5c2f1488')\"\n",
       "            title=\"Convert this dataframe to an interactive table.\"\n",
       "            style=\"display:none;\">\n",
       "\n",
       "  <svg xmlns=\"http://www.w3.org/2000/svg\" height=\"24px\" viewBox=\"0 -960 960 960\">\n",
       "    <path d=\"M120-120v-720h720v720H120Zm60-500h600v-160H180v160Zm220 220h160v-160H400v160Zm0 220h160v-160H400v160ZM180-400h160v-160H180v160Zm440 0h160v-160H620v160ZM180-180h160v-160H180v160Zm440 0h160v-160H620v160Z\"/>\n",
       "  </svg>\n",
       "    </button>\n",
       "\n",
       "  <style>\n",
       "    .colab-df-container {\n",
       "      display:flex;\n",
       "      gap: 12px;\n",
       "    }\n",
       "\n",
       "    .colab-df-convert {\n",
       "      background-color: #E8F0FE;\n",
       "      border: none;\n",
       "      border-radius: 50%;\n",
       "      cursor: pointer;\n",
       "      display: none;\n",
       "      fill: #1967D2;\n",
       "      height: 32px;\n",
       "      padding: 0 0 0 0;\n",
       "      width: 32px;\n",
       "    }\n",
       "\n",
       "    .colab-df-convert:hover {\n",
       "      background-color: #E2EBFA;\n",
       "      box-shadow: 0px 1px 2px rgba(60, 64, 67, 0.3), 0px 1px 3px 1px rgba(60, 64, 67, 0.15);\n",
       "      fill: #174EA6;\n",
       "    }\n",
       "\n",
       "    .colab-df-buttons div {\n",
       "      margin-bottom: 4px;\n",
       "    }\n",
       "\n",
       "    [theme=dark] .colab-df-convert {\n",
       "      background-color: #3B4455;\n",
       "      fill: #D2E3FC;\n",
       "    }\n",
       "\n",
       "    [theme=dark] .colab-df-convert:hover {\n",
       "      background-color: #434B5C;\n",
       "      box-shadow: 0px 1px 3px 1px rgba(0, 0, 0, 0.15);\n",
       "      filter: drop-shadow(0px 1px 2px rgba(0, 0, 0, 0.3));\n",
       "      fill: #FFFFFF;\n",
       "    }\n",
       "  </style>\n",
       "\n",
       "    <script>\n",
       "      const buttonEl =\n",
       "        document.querySelector('#df-f852a327-78ac-4c86-8976-b9ef5c2f1488 button.colab-df-convert');\n",
       "      buttonEl.style.display =\n",
       "        google.colab.kernel.accessAllowed ? 'block' : 'none';\n",
       "\n",
       "      async function convertToInteractive(key) {\n",
       "        const element = document.querySelector('#df-f852a327-78ac-4c86-8976-b9ef5c2f1488');\n",
       "        const dataTable =\n",
       "          await google.colab.kernel.invokeFunction('convertToInteractive',\n",
       "                                                    [key], {});\n",
       "        if (!dataTable) return;\n",
       "\n",
       "        const docLinkHtml = 'Like what you see? Visit the ' +\n",
       "          '<a target=\"_blank\" href=https://colab.research.google.com/notebooks/data_table.ipynb>data table notebook</a>'\n",
       "          + ' to learn more about interactive tables.';\n",
       "        element.innerHTML = '';\n",
       "        dataTable['output_type'] = 'display_data';\n",
       "        await google.colab.output.renderOutput(dataTable, element);\n",
       "        const docLink = document.createElement('div');\n",
       "        docLink.innerHTML = docLinkHtml;\n",
       "        element.appendChild(docLink);\n",
       "      }\n",
       "    </script>\n",
       "  </div>\n",
       "\n",
       "\n",
       "<div id=\"df-99dc8406-75d3-4fa8-9d64-5f226ac90791\">\n",
       "  <button class=\"colab-df-quickchart\" onclick=\"quickchart('df-99dc8406-75d3-4fa8-9d64-5f226ac90791')\"\n",
       "            title=\"Suggest charts\"\n",
       "            style=\"display:none;\">\n",
       "\n",
       "<svg xmlns=\"http://www.w3.org/2000/svg\" height=\"24px\"viewBox=\"0 0 24 24\"\n",
       "     width=\"24px\">\n",
       "    <g>\n",
       "        <path d=\"M19 3H5c-1.1 0-2 .9-2 2v14c0 1.1.9 2 2 2h14c1.1 0 2-.9 2-2V5c0-1.1-.9-2-2-2zM9 17H7v-7h2v7zm4 0h-2V7h2v10zm4 0h-2v-4h2v4z\"/>\n",
       "    </g>\n",
       "</svg>\n",
       "  </button>\n",
       "\n",
       "<style>\n",
       "  .colab-df-quickchart {\n",
       "      --bg-color: #E8F0FE;\n",
       "      --fill-color: #1967D2;\n",
       "      --hover-bg-color: #E2EBFA;\n",
       "      --hover-fill-color: #174EA6;\n",
       "      --disabled-fill-color: #AAA;\n",
       "      --disabled-bg-color: #DDD;\n",
       "  }\n",
       "\n",
       "  [theme=dark] .colab-df-quickchart {\n",
       "      --bg-color: #3B4455;\n",
       "      --fill-color: #D2E3FC;\n",
       "      --hover-bg-color: #434B5C;\n",
       "      --hover-fill-color: #FFFFFF;\n",
       "      --disabled-bg-color: #3B4455;\n",
       "      --disabled-fill-color: #666;\n",
       "  }\n",
       "\n",
       "  .colab-df-quickchart {\n",
       "    background-color: var(--bg-color);\n",
       "    border: none;\n",
       "    border-radius: 50%;\n",
       "    cursor: pointer;\n",
       "    display: none;\n",
       "    fill: var(--fill-color);\n",
       "    height: 32px;\n",
       "    padding: 0;\n",
       "    width: 32px;\n",
       "  }\n",
       "\n",
       "  .colab-df-quickchart:hover {\n",
       "    background-color: var(--hover-bg-color);\n",
       "    box-shadow: 0 1px 2px rgba(60, 64, 67, 0.3), 0 1px 3px 1px rgba(60, 64, 67, 0.15);\n",
       "    fill: var(--button-hover-fill-color);\n",
       "  }\n",
       "\n",
       "  .colab-df-quickchart-complete:disabled,\n",
       "  .colab-df-quickchart-complete:disabled:hover {\n",
       "    background-color: var(--disabled-bg-color);\n",
       "    fill: var(--disabled-fill-color);\n",
       "    box-shadow: none;\n",
       "  }\n",
       "\n",
       "  .colab-df-spinner {\n",
       "    border: 2px solid var(--fill-color);\n",
       "    border-color: transparent;\n",
       "    border-bottom-color: var(--fill-color);\n",
       "    animation:\n",
       "      spin 1s steps(1) infinite;\n",
       "  }\n",
       "\n",
       "  @keyframes spin {\n",
       "    0% {\n",
       "      border-color: transparent;\n",
       "      border-bottom-color: var(--fill-color);\n",
       "      border-left-color: var(--fill-color);\n",
       "    }\n",
       "    20% {\n",
       "      border-color: transparent;\n",
       "      border-left-color: var(--fill-color);\n",
       "      border-top-color: var(--fill-color);\n",
       "    }\n",
       "    30% {\n",
       "      border-color: transparent;\n",
       "      border-left-color: var(--fill-color);\n",
       "      border-top-color: var(--fill-color);\n",
       "      border-right-color: var(--fill-color);\n",
       "    }\n",
       "    40% {\n",
       "      border-color: transparent;\n",
       "      border-right-color: var(--fill-color);\n",
       "      border-top-color: var(--fill-color);\n",
       "    }\n",
       "    60% {\n",
       "      border-color: transparent;\n",
       "      border-right-color: var(--fill-color);\n",
       "    }\n",
       "    80% {\n",
       "      border-color: transparent;\n",
       "      border-right-color: var(--fill-color);\n",
       "      border-bottom-color: var(--fill-color);\n",
       "    }\n",
       "    90% {\n",
       "      border-color: transparent;\n",
       "      border-bottom-color: var(--fill-color);\n",
       "    }\n",
       "  }\n",
       "</style>\n",
       "\n",
       "  <script>\n",
       "    async function quickchart(key) {\n",
       "      const quickchartButtonEl =\n",
       "        document.querySelector('#' + key + ' button');\n",
       "      quickchartButtonEl.disabled = true;  // To prevent multiple clicks.\n",
       "      quickchartButtonEl.classList.add('colab-df-spinner');\n",
       "      try {\n",
       "        const charts = await google.colab.kernel.invokeFunction(\n",
       "            'suggestCharts', [key], {});\n",
       "      } catch (error) {\n",
       "        console.error('Error during call to suggestCharts:', error);\n",
       "      }\n",
       "      quickchartButtonEl.classList.remove('colab-df-spinner');\n",
       "      quickchartButtonEl.classList.add('colab-df-quickchart-complete');\n",
       "    }\n",
       "    (() => {\n",
       "      let quickchartButtonEl =\n",
       "        document.querySelector('#df-99dc8406-75d3-4fa8-9d64-5f226ac90791 button');\n",
       "      quickchartButtonEl.style.display =\n",
       "        google.colab.kernel.accessAllowed ? 'block' : 'none';\n",
       "    })();\n",
       "  </script>\n",
       "</div>\n",
       "\n",
       "    </div>\n",
       "  </div>\n"
      ],
      "text/plain": [
       "   pitch     start       end      step  duration\n",
       "0     50  0.614583  0.682292  0.000000  0.067708\n",
       "1     74  0.626302  0.933594  0.011719  0.307292\n",
       "2     49  0.670573  0.769531  0.044271  0.098958\n",
       "3     50  0.757812  1.132812  0.087240  0.375000\n",
       "4     72  0.899740  1.040365  0.141927  0.140625"
      ]
     },
     "execution_count": 13,
     "metadata": {},
     "output_type": "execute_result"
    }
   ],
   "source": [
    "raw_notes = midi_to_notes(sample_file)\n",
    "raw_notes.head()"
   ]
  },
  {
   "cell_type": "markdown",
   "metadata": {
    "id": "st2Ht3JQAXyE"
   },
   "source": [
    "It may be easier to interpret the note names rather than the pitches, so you can use the function below to convert from the numeric pitch values to note names. The note name shows the type of note, accidental and octave number (e.g. C#4)."
   ]
  },
  {
   "cell_type": "code",
   "execution_count": null,
   "metadata": {
    "colab": {
     "base_uri": "https://localhost:8080/"
    },
    "execution": {
     "iopub.execute_input": "2022-12-02T13:23:44.405131Z",
     "iopub.status.busy": "2022-12-02T13:23:44.404783Z",
     "iopub.status.idle": "2022-12-02T13:23:44.452205Z",
     "shell.execute_reply": "2022-12-02T13:23:44.451347Z",
     "shell.execute_reply.started": "2022-12-02T13:23:44.405095Z"
    },
    "id": "UTX4doPFAXyF",
    "outputId": "b9f3eec9-61ad-4701-afc1-7edc0137c311"
   },
   "outputs": [
    {
     "data": {
      "text/plain": [
       "array(['D3', 'D5', 'C#3', 'D3', 'C5', 'A#4', 'A4', 'D2', 'G4', 'F4'],\n",
       "      dtype='<U3')"
      ]
     },
     "execution_count": 14,
     "metadata": {},
     "output_type": "execute_result"
    }
   ],
   "source": [
    "get_note_names = np.vectorize(pretty_midi.note_number_to_name)\n",
    "sample_note_names = get_note_names(raw_notes['pitch'])\n",
    "sample_note_names[:10]"
   ]
  },
  {
   "cell_type": "markdown",
   "metadata": {
    "id": "rB8v0eb3AXyF"
   },
   "source": [
    "To visualize the musical piece, plot the note pitch, start and end across the length of the track (i.e. piano roll). Start with the first 100 notes"
   ]
  },
  {
   "cell_type": "code",
   "execution_count": null,
   "metadata": {
    "execution": {
     "iopub.execute_input": "2022-12-02T13:23:44.455638Z",
     "iopub.status.busy": "2022-12-02T13:23:44.455355Z",
     "iopub.status.idle": "2022-12-02T13:23:44.462294Z",
     "shell.execute_reply": "2022-12-02T13:23:44.461331Z",
     "shell.execute_reply.started": "2022-12-02T13:23:44.455612Z"
    },
    "id": "eC8j5hUGAXyG"
   },
   "outputs": [],
   "source": [
    "def plot_piano_roll(notes: pd.DataFrame, count: Optional[int] = None):\n",
    "    if count:\n",
    "        title = f'First {count} notes'\n",
    "    else:\n",
    "        title = f'Whole track'\n",
    "        count = len(notes['pitch'])\n",
    "    plt.figure(figsize=(20, 4))\n",
    "    plot_pitch = np.stack([notes['pitch'], notes['pitch']], axis=0)\n",
    "    plot_start_stop = np.stack([notes['start'], notes['end']], axis=0)\n",
    "    plt.plot(\n",
    "      plot_start_stop[:, :count], plot_pitch[:, :count], color=\"b\", marker=\".\")\n",
    "    plt.xlabel('Time [s]')\n",
    "    plt.ylabel('Pitch')\n",
    "    _ = plt.title(title)"
   ]
  },
  {
   "cell_type": "code",
   "execution_count": null,
   "metadata": {
    "colab": {
     "base_uri": "https://localhost:8080/",
     "height": 430
    },
    "execution": {
     "iopub.execute_input": "2022-12-02T13:23:44.464828Z",
     "iopub.status.busy": "2022-12-02T13:23:44.46416Z",
     "iopub.status.idle": "2022-12-02T13:23:44.80048Z",
     "shell.execute_reply": "2022-12-02T13:23:44.799482Z",
     "shell.execute_reply.started": "2022-12-02T13:23:44.464791Z"
    },
    "id": "MkWhzg2XAXyG",
    "outputId": "16f7ca4a-4b6d-418b-d7fd-2ed10fda2247"
   },
   "outputs": [
    {
     "data": {
      "image/png": "[encoded data removed]",
      "text/plain": [
       "<Figure size 2000x400 with 1 Axes>"
      ]
     },
     "metadata": {},
     "output_type": "display_data"
    }
   ],
   "source": [
    "plot_piano_roll(raw_notes, count=100)\n"
   ]
  },
  {
   "cell_type": "markdown",
   "metadata": {
    "id": "NQRSOSpTAXyH"
   },
   "source": [
    "Plot the notes for the entire track.\n",
    "\n"
   ]
  },
  {
   "cell_type": "code",
   "execution_count": null,
   "metadata": {
    "colab": {
     "base_uri": "https://localhost:8080/",
     "height": 361
    },
    "execution": {
     "iopub.execute_input": "2022-12-02T13:23:44.807216Z",
     "iopub.status.busy": "2022-12-02T13:23:44.806937Z",
     "iopub.status.idle": "2022-12-02T13:23:55.285279Z",
     "shell.execute_reply": "2022-12-02T13:23:55.2843Z",
     "shell.execute_reply.started": "2022-12-02T13:23:44.807189Z"
    },
    "id": "sGmLGzIBAXyH",
    "outputId": "ac294f56-212c-4659-c900-4957fce28a0f"
   },
   "outputs": [
    {
     "data": {
      "image/png": "[encoded data removed]",
      "text/plain": [
       "<Figure size 2000x400 with 1 Axes>"
      ]
     },
     "metadata": {},
     "output_type": "display_data"
    }
   ],
   "source": [
    "plot_piano_roll(raw_notes)"
   ]
  },
  {
   "cell_type": "markdown",
   "metadata": {
    "id": "K7zwwdHdAXyH"
   },
   "source": [
    "Check the distribution of each note variable.\n",
    "\n"
   ]
  },
  {
   "cell_type": "code",
   "execution_count": null,
   "metadata": {
    "execution": {
     "iopub.execute_input": "2022-12-02T13:23:55.286646Z",
     "iopub.status.busy": "2022-12-02T13:23:55.286291Z",
     "iopub.status.idle": "2022-12-02T13:23:55.295185Z",
     "shell.execute_reply": "2022-12-02T13:23:55.294577Z",
     "shell.execute_reply.started": "2022-12-02T13:23:55.28661Z"
    },
    "id": "_TfxV8AaAXyI"
   },
   "outputs": [],
   "source": [
    "def plot_distributions(notes: pd.DataFrame, drop_percentile=2.5):\n",
    "  plt.figure(figsize=[15, 5])\n",
    "  plt.subplot(1, 3, 1)\n",
    "  sns.histplot(notes, x=\"pitch\", bins=20)\n",
    "\n",
    "  plt.subplot(1, 3, 2)\n",
    "  max_step = np.percentile(notes['step'], 100 - drop_percentile)\n",
    "  sns.histplot(notes, x=\"step\", bins=np.linspace(0, max_step, 21))\n",
    "\n",
    "  plt.subplot(1, 3, 3)\n",
    "  max_duration = np.percentile(notes['duration'], 100 - drop_percentile)\n",
    "  sns.histplot(notes, x=\"duration\", bins=np.linspace(0, max_duration, 21))"
   ]
  },
  {
   "cell_type": "code",
   "execution_count": null,
   "metadata": {
    "colab": {
     "base_uri": "https://localhost:8080/",
     "height": 465
    },
    "execution": {
     "iopub.execute_input": "2022-12-02T13:23:55.297337Z",
     "iopub.status.busy": "2022-12-02T13:23:55.296633Z",
     "iopub.status.idle": "2022-12-02T13:23:55.849298Z",
     "shell.execute_reply": "2022-12-02T13:23:55.848398Z",
     "shell.execute_reply.started": "2022-12-02T13:23:55.297297Z"
    },
    "id": "FdcFqyMwAXyI",
    "outputId": "649f0af6-374a-41ea-ea83-39921db82a28"
   },
   "outputs": [
    {
     "data": {
      "image/png": "[encoded data removed]",
      "text/plain": [
       "<Figure size 1500x500 with 3 Axes>"
      ]
     },
     "metadata": {},
     "output_type": "display_data"
    }
   ],
   "source": [
    "plot_distributions(raw_notes)"
   ]
  },
  {
   "cell_type": "markdown",
   "metadata": {
    "id": "OLBW-LnkAXyI"
   },
   "source": [
    "# **Create a MIDI file**\n",
    "You can generate your own MIDI file from a list of notes using the function below."
   ]
  },
  {
   "cell_type": "code",
   "execution_count": null,
   "metadata": {
    "execution": {
     "iopub.execute_input": "2022-12-02T13:23:55.851383Z",
     "iopub.status.busy": "2022-12-02T13:23:55.851098Z",
     "iopub.status.idle": "2022-12-02T13:23:55.862135Z",
     "shell.execute_reply": "2022-12-02T13:23:55.861103Z",
     "shell.execute_reply.started": "2022-12-02T13:23:55.851356Z"
    },
    "id": "HXGKCUNeAXyJ"
   },
   "outputs": [],
   "source": [
    "def notes_to_midi(\n",
    "  notes: pd.DataFrame,\n",
    "  out_file: str,\n",
    "  instrument_name: str,\n",
    "  velocity: int = 100,  # note loudness\n",
    ") -> pretty_midi.PrettyMIDI:\n",
    "\n",
    "  pm = pretty_midi.PrettyMIDI()\n",
    "  instrument = pretty_midi.Instrument(\n",
    "      program=pretty_midi.instrument_name_to_program(\n",
    "          instrument_name))\n",
    "\n",
    "  prev_start = 0\n",
    "  for i, note in notes.iterrows():\n",
    "    start = float(prev_start + note['step'])\n",
    "    end = float(start + note['duration'])\n",
    "    note = pretty_midi.Note(\n",
    "        velocity=velocity,\n",
    "        pitch=int(note['pitch']),\n",
    "        start=start,\n",
    "        end=end,\n",
    "    )\n",
    "    instrument.notes.append(note)\n",
    "    prev_start = start\n",
    "\n",
    "  pm.instruments.append(instrument)\n",
    "  pm.write(out_file)\n",
    "  return pm"
   ]
  },
  {
   "cell_type": "code",
   "execution_count": null,
   "metadata": {
    "execution": {
     "iopub.execute_input": "2022-12-02T13:23:55.864307Z",
     "iopub.status.busy": "2022-12-02T13:23:55.863744Z",
     "iopub.status.idle": "2022-12-02T13:23:56.759935Z",
     "shell.execute_reply": "2022-12-02T13:23:56.758926Z",
     "shell.execute_reply.started": "2022-12-02T13:23:55.864271Z"
    },
    "id": "KHAlO4ZxAXyJ"
   },
   "outputs": [],
   "source": [
    "example_file = 'example.midi'\n",
    "example_pm = notes_to_midi(\n",
    "    raw_notes, out_file=example_file, instrument_name=instrument_name)"
   ]
  },
  {
   "cell_type": "markdown",
   "metadata": {
    "id": "oWXLxn-SAXyJ"
   },
   "source": [
    "Play the generated MIDI file and see if there is any difference.\n",
    "\n"
   ]
  },
  {
   "cell_type": "code",
   "execution_count": null,
   "metadata": {
    "execution": {
     "iopub.execute_input": "2022-12-02T13:23:56.761823Z",
     "iopub.status.busy": "2022-12-02T13:23:56.761428Z",
     "iopub.status.idle": "2022-12-02T13:23:56.766007Z",
     "shell.execute_reply": "2022-12-02T13:23:56.765022Z",
     "shell.execute_reply.started": "2022-12-02T13:23:56.761785Z"
    },
    "id": "4Lo2a2K7AXyJ"
   },
   "outputs": [],
   "source": [
    "# display_audio(example_pm)"
   ]
  },
  {
   "cell_type": "markdown",
   "metadata": {
    "id": "Ywn3pGgiAXyV"
   },
   "source": [
    "As before, you can write files.download(example_file) to download and play this file.\n",
    "# **Create the training dataset**\n",
    "Create the training dataset by extracting notes from the MIDI files. You can start by using a small number of files, and experiment later with more. This may take a couple minutes.\n"
   ]
  },
  {
   "cell_type": "code",
   "execution_count": null,
   "metadata": {
    "execution": {
     "iopub.execute_input": "2022-12-02T13:23:56.768249Z",
     "iopub.status.busy": "2022-12-02T13:23:56.767566Z",
     "iopub.status.idle": "2022-12-02T13:23:58.112475Z",
     "shell.execute_reply": "2022-12-02T13:23:58.111394Z",
     "shell.execute_reply.started": "2022-12-02T13:23:56.768213Z"
    },
    "id": "tBoIRU16AXyW"
   },
   "outputs": [],
   "source": [
    "num_files = 5\n",
    "all_notes = []\n",
    "for f in filenames[:num_files]:\n",
    "  notes = midi_to_notes(f)\n",
    "  all_notes.append(notes)\n",
    "\n",
    "all_notes = pd.concat(all_notes)"
   ]
  },
  {
   "cell_type": "code",
   "execution_count": null,
   "metadata": {
    "colab": {
     "base_uri": "https://localhost:8080/"
    },
    "execution": {
     "iopub.execute_input": "2022-12-02T13:23:58.114644Z",
     "iopub.status.busy": "2022-12-02T13:23:58.114212Z",
     "iopub.status.idle": "2022-12-02T13:23:58.122545Z",
     "shell.execute_reply": "2022-12-02T13:23:58.121289Z",
     "shell.execute_reply.started": "2022-12-02T13:23:58.114602Z"
    },
    "id": "CkKriPkcAXyW",
    "outputId": "17397af0-ecc1-411c-e3ae-3288a90b6f89"
   },
   "outputs": [
    {
     "name": "stdout",
     "output_type": "stream",
     "text": [
      "Number of notes parsed: 19278\n"
     ]
    }
   ],
   "source": [
    "n_notes = len(all_notes)\n",
    "print('Number of notes parsed:', n_notes)"
   ]
  },
  {
   "cell_type": "markdown",
   "metadata": {
    "id": "uZ3tUhviAXyX"
   },
   "source": [
    "Next, create a tf.data.Dataset from the parsed notes.\n",
    "\n"
   ]
  },
  {
   "cell_type": "code",
   "execution_count": null,
   "metadata": {
    "execution": {
     "iopub.execute_input": "2022-12-02T13:23:58.125838Z",
     "iopub.status.busy": "2022-12-02T13:23:58.124453Z",
     "iopub.status.idle": "2022-12-02T13:23:58.132517Z",
     "shell.execute_reply": "2022-12-02T13:23:58.13144Z",
     "shell.execute_reply.started": "2022-12-02T13:23:58.125792Z"
    },
    "id": "4iRWekLVAXyX"
   },
   "outputs": [],
   "source": [
    "key_order = ['pitch', 'step', 'duration']\n",
    "train_notes = np.stack([all_notes[key] for key in key_order], axis=1)"
   ]
  },
  {
   "cell_type": "code",
   "execution_count": null,
   "metadata": {
    "colab": {
     "base_uri": "https://localhost:8080/"
    },
    "execution": {
     "iopub.execute_input": "2022-12-02T13:23:58.134655Z",
     "iopub.status.busy": "2022-12-02T13:23:58.13386Z",
     "iopub.status.idle": "2022-12-02T13:24:00.673013Z",
     "shell.execute_reply": "2022-12-02T13:24:00.672065Z",
     "shell.execute_reply.started": "2022-12-02T13:23:58.134617Z"
    },
    "id": "G7U59QW2AXyY",
    "outputId": "c9a0798b-408c-4087-be86-89d4e2f82d4f"
   },
   "outputs": [
    {
     "data": {
      "text/plain": [
       "TensorSpec(shape=(3,), dtype=tf.float64, name=None)"
      ]
     },
     "execution_count": 25,
     "metadata": {},
     "output_type": "execute_result"
    }
   ],
   "source": [
    "notes_ds = tf.data.Dataset.from_tensor_slices(train_notes)\n",
    "notes_ds.element_spec"
   ]
  },
  {
   "cell_type": "markdown",
   "metadata": {
    "id": "MGgP6mr5AXyY"
   },
   "source": [
    "You will train the model on batches of sequences of notes. Each example will consist of a sequence of notes as the input features, and the next note as the label. In this way, the model will be trained to predict the next note in a sequence. You can find a diagram describing this process (and more details) in Text classification with an RNN.\n",
    "\n",
    "You can use the handy window function with size seq_length to create the features and labels in this format."
   ]
  },
  {
   "cell_type": "code",
   "execution_count": null,
   "metadata": {
    "execution": {
     "iopub.execute_input": "2022-12-02T13:24:00.675099Z",
     "iopub.status.busy": "2022-12-02T13:24:00.674493Z",
     "iopub.status.idle": "2022-12-02T13:24:00.684069Z",
     "shell.execute_reply": "2022-12-02T13:24:00.683196Z",
     "shell.execute_reply.started": "2022-12-02T13:24:00.675062Z"
    },
    "id": "2_vcM1ynAXyY"
   },
   "outputs": [],
   "source": [
    "def create_sequences(\n",
    "    dataset: tf.data.Dataset,\n",
    "    seq_length: int,\n",
    "    vocab_size = 128,\n",
    ") -> tf.data.Dataset:\n",
    "  \"\"\"Returns TF Dataset of sequence and label examples.\"\"\"\n",
    "  seq_length = seq_length+1\n",
    "\n",
    "  # Take 1 extra for the labels\n",
    "  windows = dataset.window(seq_length, shift=1, stride=1,\n",
    "                              drop_remainder=True)\n",
    "\n",
    "  # `flat_map` flattens the\" dataset of datasets\" into a dataset of tensors\n",
    "  flatten = lambda x: x.batch(seq_length, drop_remainder=True)\n",
    "  sequences = windows.flat_map(flatten)\n",
    "\n",
    "  # Normalize note pitch\n",
    "  def scale_pitch(x):\n",
    "    x = x/[vocab_size,1.0,1.0]\n",
    "    return x\n",
    "\n",
    "  # Split the labels\n",
    "  def split_labels(sequences):\n",
    "    inputs = sequences[:-1]\n",
    "    labels_dense = sequences[-1]\n",
    "    labels = {key:labels_dense[i] for i,key in enumerate(key_order)}\n",
    "\n",
    "    return scale_pitch(inputs), labels\n",
    "\n",
    "  return sequences.map(split_labels, num_parallel_calls=tf.data.AUTOTUNE)"
   ]
  },
  {
   "cell_type": "markdown",
   "metadata": {
    "id": "AlMv9DYWAXyZ"
   },
   "source": [
    "Set the sequence length for each example. Experiment with different lengths (e.g. 50, 100, 150) to see which one works best for the data, or use hyperparameter tuning. The size of the vocabulary (vocab_size) is set to 128 representing all the pitches supported by pretty_midi."
   ]
  },
  {
   "cell_type": "code",
   "execution_count": null,
   "metadata": {
    "colab": {
     "base_uri": "https://localhost:8080/"
    },
    "execution": {
     "iopub.execute_input": "2022-12-02T13:24:00.686787Z",
     "iopub.status.busy": "2022-12-02T13:24:00.68575Z",
     "iopub.status.idle": "2022-12-02T13:24:00.826247Z",
     "shell.execute_reply": "2022-12-02T13:24:00.824456Z",
     "shell.execute_reply.started": "2022-12-02T13:24:00.686747Z"
    },
    "id": "NGcLcP3nAXyZ",
    "outputId": "89392c82-7da7-4986-9f2b-5387aa206a17"
   },
   "outputs": [
    {
     "data": {
      "text/plain": [
       "(TensorSpec(shape=(25, 3), dtype=tf.float64, name=None),\n",
       " {'pitch': TensorSpec(shape=(), dtype=tf.float64, name=None),\n",
       "  'step': TensorSpec(shape=(), dtype=tf.float64, name=None),\n",
       "  'duration': TensorSpec(shape=(), dtype=tf.float64, name=None)})"
      ]
     },
     "execution_count": 27,
     "metadata": {},
     "output_type": "execute_result"
    }
   ],
   "source": [
    "seq_length = 25\n",
    "vocab_size = 128\n",
    "seq_ds = create_sequences(notes_ds, seq_length, vocab_size)\n",
    "seq_ds.element_spec"
   ]
  },
  {
   "cell_type": "markdown",
   "metadata": {
    "id": "dUDpR-BhAXyZ"
   },
   "source": [
    "The shape of the dataset is (100,1), meaning that the model will take 100 notes as input, and learn to predict the following note as output."
   ]
  },
  {
   "cell_type": "code",
   "execution_count": null,
   "metadata": {
    "colab": {
     "base_uri": "https://localhost:8080/"
    },
    "execution": {
     "iopub.execute_input": "2022-12-02T13:24:00.828038Z",
     "iopub.status.busy": "2022-12-02T13:24:00.8276Z",
     "iopub.status.idle": "2022-12-02T13:24:00.916058Z",
     "shell.execute_reply": "2022-12-02T13:24:00.91519Z",
     "shell.execute_reply.started": "2022-12-02T13:24:00.828002Z"
    },
    "id": "YSdEAHbtAXya",
    "outputId": "cc123339-4119-409b-9682-ceaa590ddabc"
   },
   "outputs": [
    {
     "name": "stdout",
     "output_type": "stream",
     "text": [
      "sequence shape: (25, 3)\n",
      "sequence elements (first 10): tf.Tensor(\n",
      "[[0.515625   0.         1.77083333]\n",
      " [0.421875   0.02734375 0.7265625 ]\n",
      " [0.5234375  1.57291667 1.48567708]\n",
      " [0.4296875  0.03776042 1.88671875]\n",
      " [0.515625   2.57421875 0.67838542]\n",
      " [0.421875   0.02083333 0.69921875]\n",
      " [0.515625   0.79296875 0.06770833]\n",
      " [0.421875   0.04036458 0.05338542]\n",
      " [0.515625   0.13151042 1.37630208]\n",
      " [0.421875   0.02994792 0.20833333]], shape=(10, 3), dtype=float64)\n",
      "\n",
      "target: {'pitch': <tf.Tensor: shape=(), dtype=float64, numpy=38.0>, 'step': <tf.Tensor: shape=(), dtype=float64, numpy=0.01953125>, 'duration': <tf.Tensor: shape=(), dtype=float64, numpy=0.2708333333333339>}\n"
     ]
    }
   ],
   "source": [
    "for seq, target in seq_ds.take(1):\n",
    "    print('sequence shape:', seq.shape)\n",
    "    print('sequence elements (first 10):', seq[0: 10])\n",
    "    print()\n",
    "    print('target:', target)"
   ]
  },
  {
   "cell_type": "markdown",
   "metadata": {
    "id": "JwAmjdyOAXya"
   },
   "source": [
    "Batch the examples, and configure the dataset for performance.\n",
    "\n"
   ]
  },
  {
   "cell_type": "code",
   "execution_count": null,
   "metadata": {
    "execution": {
     "iopub.execute_input": "2022-12-02T13:24:00.917968Z",
     "iopub.status.busy": "2022-12-02T13:24:00.917601Z",
     "iopub.status.idle": "2022-12-02T13:24:00.937397Z",
     "shell.execute_reply": "2022-12-02T13:24:00.936542Z",
     "shell.execute_reply.started": "2022-12-02T13:24:00.917931Z"
    },
    "id": "tKKoRCRlAXya"
   },
   "outputs": [],
   "source": [
    "batch_size = 64\n",
    "buffer_size = n_notes - seq_length  # the number of items in the dataset\n",
    "train_ds = (seq_ds\n",
    "            .shuffle(buffer_size)\n",
    "            .batch(batch_size, drop_remainder=True)\n",
    "            .cache()\n",
    "            .prefetch(tf.data.experimental.AUTOTUNE))"
   ]
  },
  {
   "cell_type": "code",
   "execution_count": null,
   "metadata": {
    "execution": {
     "iopub.execute_input": "2022-12-02T13:24:00.939251Z",
     "iopub.status.busy": "2022-12-02T13:24:00.938902Z",
     "iopub.status.idle": "2022-12-02T13:24:00.946539Z",
     "shell.execute_reply": "2022-12-02T13:24:00.945566Z",
     "shell.execute_reply.started": "2022-12-02T13:24:00.939216Z"
    },
    "id": "to587Qd7AXyb"
   },
   "outputs": [],
   "source": [
    "train_ds.element_spec"
   ]
  },
  {
   "cell_type": "markdown",
   "metadata": {
    "id": "LK2JlBVAAXyb"
   },
   "source": [
    "# **Create and train the model**\n",
    "The model will have three outputs, one for each note variable. For step and duration, you will use a custom loss function based on mean squared error that encourages the model to output non-negative values."
   ]
  },
  {
   "cell_type": "code",
   "execution_count": null,
   "metadata": {
    "execution": {
     "iopub.execute_input": "2022-12-02T13:24:00.948879Z",
     "iopub.status.busy": "2022-12-02T13:24:00.947867Z",
     "iopub.status.idle": "2022-12-02T13:24:00.954455Z",
     "shell.execute_reply": "2022-12-02T13:24:00.953468Z",
     "shell.execute_reply.started": "2022-12-02T13:24:00.948841Z"
    },
    "id": "BVvt2-kOAXyb"
   },
   "outputs": [],
   "source": [
    "def mse_with_positive_pressure(y_true: tf.Tensor, y_pred: tf.Tensor):\n",
    "  mse = (y_true - y_pred) ** 2\n",
    "  positive_pressure = 10 * tf.maximum(-y_pred, 0.0)\n",
    "  return tf.reduce_mean(mse + positive_pressure)"
   ]
  },
  {
   "cell_type": "code",
   "execution_count": null,
   "metadata": {
    "colab": {
     "base_uri": "https://localhost:8080/"
    },
    "execution": {
     "iopub.execute_input": "2022-12-02T13:24:00.956855Z",
     "iopub.status.busy": "2022-12-02T13:24:00.955756Z",
     "iopub.status.idle": "2022-12-02T13:24:01.238442Z",
     "shell.execute_reply": "2022-12-02T13:24:01.237443Z",
     "shell.execute_reply.started": "2022-12-02T13:24:00.956789Z"
    },
    "id": "S9nZ3GpjAXyc",
    "outputId": "f3c21558-e980-4390-b416-bfd85cbb0ee3"
   },
   "outputs": [
    {
     "name": "stdout",
     "output_type": "stream",
     "text": [
      "Model: \"model\"\n",
      "__________________________________________________________________________________________________\n",
      " Layer (type)                Output Shape                 Param #   Connected to                  \n",
      "==================================================================================================\n",
      " input_1 (InputLayer)        [(None, 25, 3)]              0         []                            \n",
      "                                                                                                  \n",
      " lstm (LSTM)                 (None, 128)                  67584     ['input_1[0][0]']             \n",
      "                                                                                                  \n",
      " duration (Dense)            (None, 1)                    129       ['lstm[0][0]']                \n",
      "                                                                                                  \n",
      " pitch (Dense)               (None, 128)                  16512     ['lstm[0][0]']                \n",
      "                                                                                                  \n",
      " step (Dense)                (None, 1)                    129       ['lstm[0][0]']                \n",
      "                                                                                                  \n",
      "==================================================================================================\n",
      "Total params: 84354 (329.51 KB)\n",
      "Trainable params: 84354 (329.51 KB)\n",
      "Non-trainable params: 0 (0.00 Byte)\n",
      "__________________________________________________________________________________________________\n"
     ]
    }
   ],
   "source": [
    "input_shape = (seq_length, 3)\n",
    "learning_rate = 0.005\n",
    "\n",
    "inputs = tf.keras.Input(input_shape)\n",
    "x = tf.keras.layers.LSTM(128)(inputs)\n",
    "\n",
    "outputs = {\n",
    "  'pitch': tf.keras.layers.Dense(128, name='pitch')(x),\n",
    "  'step': tf.keras.layers.Dense(1, name='step')(x),\n",
    "  'duration': tf.keras.layers.Dense(1, name='duration')(x),\n",
    "}\n",
    "\n",
    "model = tf.keras.Model(inputs, outputs)\n",
    "\n",
    "loss = {\n",
    "      'pitch': tf.keras.losses.SparseCategoricalCrossentropy(\n",
    "          from_logits=True),\n",
    "      'step': mse_with_positive_pressure,\n",
    "      'duration': mse_with_positive_pressure,\n",
    "}\n",
    "\n",
    "optimizer = tf.keras.optimizers.Adam(learning_rate=learning_rate)\n",
    "\n",
    "model.compile(loss=loss, optimizer=optimizer)\n",
    "\n",
    "model.summary()"
   ]
  },
  {
   "cell_type": "markdown",
   "metadata": {
    "id": "SntK5-7JAXyc"
   },
   "source": [
    "Testing the model.evaluate function, you can see that the pitch loss is significantly greater than the step and duration losses. Note that loss is the total loss computed by summing all the other losses and is currently dominated by the pitch loss."
   ]
  },
  {
   "cell_type": "code",
   "execution_count": null,
   "metadata": {
    "colab": {
     "base_uri": "https://localhost:8080/"
    },
    "execution": {
     "iopub.execute_input": "2022-12-02T13:24:01.240296Z",
     "iopub.status.busy": "2022-12-02T13:24:01.23969Z",
     "iopub.status.idle": "2022-12-02T13:24:12.242835Z",
     "shell.execute_reply": "2022-12-02T13:24:12.241704Z",
     "shell.execute_reply.started": "2022-12-02T13:24:01.24026Z"
    },
    "id": "FGLQJcRIAXyd",
    "outputId": "d5c51066-3c53-45a2-9570-65bfd4152825"
   },
   "outputs": [
    {
     "name": "stdout",
     "output_type": "stream",
     "text": [
      "300/300 [==============================] - 9s 19ms/step - loss: 6.5312 - duration_loss: 0.5038 - pitch_loss: 4.8563 - step_loss: 1.1712\n"
     ]
    },
    {
     "data": {
      "text/plain": [
       "{'loss': 6.531217098236084,\n",
       " 'duration_loss': 0.5037552714347839,\n",
       " 'pitch_loss': 4.856293201446533,\n",
       " 'step_loss': 1.1711701154708862}"
      ]
     },
     "execution_count": 32,
     "metadata": {},
     "output_type": "execute_result"
    }
   ],
   "source": [
    "losses = model.evaluate(train_ds, return_dict=True)\n",
    "losses"
   ]
  },
  {
   "cell_type": "markdown",
   "metadata": {
    "id": "m1qnHzOpAXyd"
   },
   "source": [
    "One way balance this is to use the loss_weights argument to compile:\n",
    "\n"
   ]
  },
  {
   "cell_type": "code",
   "execution_count": null,
   "metadata": {
    "execution": {
     "iopub.execute_input": "2022-12-02T13:24:12.245064Z",
     "iopub.status.busy": "2022-12-02T13:24:12.244659Z",
     "iopub.status.idle": "2022-12-02T13:24:12.259819Z",
     "shell.execute_reply": "2022-12-02T13:24:12.258952Z",
     "shell.execute_reply.started": "2022-12-02T13:24:12.245027Z"
    },
    "id": "u80aDuuOAXyd"
   },
   "outputs": [],
   "source": [
    "model.compile(\n",
    "    loss=loss,\n",
    "    loss_weights={\n",
    "        'pitch': 0.05,\n",
    "        'step': 1.0,\n",
    "        'duration':1.0,\n",
    "    },\n",
    "    optimizer=optimizer,\n",
    ")"
   ]
  },
  {
   "cell_type": "markdown",
   "metadata": {
    "id": "0y4EcYH7AXye"
   },
   "source": [
    "The loss then becomes the weighted sum of the individual losses.\n",
    "\n"
   ]
  },
  {
   "cell_type": "code",
   "execution_count": null,
   "metadata": {
    "colab": {
     "base_uri": "https://localhost:8080/"
    },
    "execution": {
     "iopub.execute_input": "2022-12-02T13:24:12.263249Z",
     "iopub.status.busy": "2022-12-02T13:24:12.262965Z",
     "iopub.status.idle": "2022-12-02T13:24:14.238423Z",
     "shell.execute_reply": "2022-12-02T13:24:14.2375Z",
     "shell.execute_reply.started": "2022-12-02T13:24:12.263225Z"
    },
    "id": "YDVD20wdAXye",
    "outputId": "bbab7c5f-2cdd-483d-e753-5350964d2bff"
   },
   "outputs": [
    {
     "name": "stdout",
     "output_type": "stream",
     "text": [
      "300/300 [==============================] - 6s 14ms/step - loss: 1.9177 - duration_loss: 0.5038 - pitch_loss: 4.8563 - step_loss: 1.1712\n"
     ]
    },
    {
     "data": {
      "text/plain": [
       "{'loss': 1.9177404642105103,\n",
       " 'duration_loss': 0.5037552714347839,\n",
       " 'pitch_loss': 4.856293201446533,\n",
       " 'step_loss': 1.1711701154708862}"
      ]
     },
     "execution_count": 34,
     "metadata": {},
     "output_type": "execute_result"
    }
   ],
   "source": [
    "model.evaluate(train_ds, return_dict=True)"
   ]
  },
  {
   "cell_type": "markdown",
   "metadata": {
    "id": "w0QSxS6SAXye"
   },
   "source": [
    "**Train the model.**\n",
    "\n"
   ]
  },
  {
   "cell_type": "code",
   "execution_count": null,
   "metadata": {
    "execution": {
     "iopub.execute_input": "2022-12-02T13:24:14.240407Z",
     "iopub.status.busy": "2022-12-02T13:24:14.240014Z",
     "iopub.status.idle": "2022-12-02T13:24:14.246149Z",
     "shell.execute_reply": "2022-12-02T13:24:14.244819Z",
     "shell.execute_reply.started": "2022-12-02T13:24:14.240369Z"
    },
    "id": "9l9WpxoNAXye"
   },
   "outputs": [],
   "source": [
    "callbacks = [\n",
    "    tf.keras.callbacks.ModelCheckpoint(\n",
    "        filepath='./training_checkpoints/ckpt_{epoch}',\n",
    "        save_weights_only=True),\n",
    "    tf.keras.callbacks.EarlyStopping(\n",
    "        monitor='loss',\n",
    "        patience=5,\n",
    "        verbose=1,\n",
    "        restore_best_weights=True),\n",
    "]"
   ]
  },
  {
   "cell_type": "code",
   "execution_count": null,
   "metadata": {
    "colab": {
     "base_uri": "https://localhost:8080/"
    },
    "execution": {
     "iopub.execute_input": "2022-12-02T13:24:14.248673Z",
     "iopub.status.busy": "2022-12-02T13:24:14.248217Z",
     "iopub.status.idle": "2022-12-02T13:24:53.772146Z",
     "shell.execute_reply": "2022-12-02T13:24:53.771182Z",
     "shell.execute_reply.started": "2022-12-02T13:24:14.248637Z"
    },
    "id": "PPRCPjVcAXyf",
    "outputId": "372da292-3076-4254-9a39-ac93bb34e94e"
   },
   "outputs": [
    {
     "name": "stdout",
     "output_type": "stream",
     "text": [
      "Epoch 1/50\n",
      "300/300 [==============================] - 14s 40ms/step - loss: 0.3083 - duration_loss: 0.0799 - pitch_loss: 4.0604 - step_loss: 0.0254\n",
      "Epoch 2/50\n",
      "300/300 [==============================] - 11s 37ms/step - loss: 0.2906 - duration_loss: 0.0741 - pitch_loss: 3.9236 - step_loss: 0.0203\n",
      "Epoch 3/50\n",
      "300/300 [==============================] - 12s 39ms/step - loss: 0.2892 - duration_loss: 0.0735 - pitch_loss: 3.9116 - step_loss: 0.0201\n",
      "Epoch 4/50\n",
      "300/300 [==============================] - 12s 38ms/step - loss: 0.2886 - duration_loss: 0.0734 - pitch_loss: 3.9020 - step_loss: 0.0202\n",
      "Epoch 5/50\n",
      "300/300 [==============================] - 12s 39ms/step - loss: 0.2867 - duration_loss: 0.0725 - pitch_loss: 3.8884 - step_loss: 0.0198\n",
      "Epoch 6/50\n",
      "300/300 [==============================] - 12s 40ms/step - loss: 0.2859 - duration_loss: 0.0726 - pitch_loss: 3.8729 - step_loss: 0.0197\n",
      "Epoch 7/50\n",
      "300/300 [==============================] - 12s 39ms/step - loss: 0.2840 - duration_loss: 0.0722 - pitch_loss: 3.8497 - step_loss: 0.0194\n",
      "Epoch 8/50\n",
      "300/300 [==============================] - 12s 39ms/step - loss: 0.2832 - duration_loss: 0.0721 - pitch_loss: 3.8342 - step_loss: 0.0193\n",
      "Epoch 9/50\n",
      "300/300 [==============================] - 12s 39ms/step - loss: 0.2828 - duration_loss: 0.0716 - pitch_loss: 3.8322 - step_loss: 0.0196\n",
      "Epoch 10/50\n",
      "300/300 [==============================] - 12s 39ms/step - loss: 0.2837 - duration_loss: 0.0721 - pitch_loss: 3.8410 - step_loss: 0.0195\n",
      "Epoch 11/50\n",
      "300/300 [==============================] - 12s 39ms/step - loss: 0.2818 - duration_loss: 0.0712 - pitch_loss: 3.8190 - step_loss: 0.0196\n",
      "Epoch 12/50\n",
      "300/300 [==============================] - 12s 39ms/step - loss: 0.2817 - duration_loss: 0.0712 - pitch_loss: 3.8121 - step_loss: 0.0199\n",
      "Epoch 13/50\n",
      "300/300 [==============================] - 12s 39ms/step - loss: 0.2786 - duration_loss: 0.0696 - pitch_loss: 3.7951 - step_loss: 0.0192\n",
      "Epoch 14/50\n",
      "300/300 [==============================] - 12s 39ms/step - loss: 0.2764 - duration_loss: 0.0682 - pitch_loss: 3.7847 - step_loss: 0.0190\n",
      "Epoch 15/50\n",
      "300/300 [==============================] - 11s 37ms/step - loss: 0.2749 - duration_loss: 0.0669 - pitch_loss: 3.7877 - step_loss: 0.0187\n",
      "Epoch 16/50\n",
      "300/300 [==============================] - 12s 39ms/step - loss: 0.2743 - duration_loss: 0.0664 - pitch_loss: 3.7826 - step_loss: 0.0188\n",
      "Epoch 17/50\n",
      "300/300 [==============================] - 12s 39ms/step - loss: 0.2739 - duration_loss: 0.0664 - pitch_loss: 3.7826 - step_loss: 0.0184\n",
      "Epoch 18/50\n",
      "300/300 [==============================] - 12s 39ms/step - loss: 0.2708 - duration_loss: 0.0642 - pitch_loss: 3.7680 - step_loss: 0.0182\n",
      "Epoch 19/50\n",
      "300/300 [==============================] - 12s 39ms/step - loss: 0.2678 - duration_loss: 0.0621 - pitch_loss: 3.7626 - step_loss: 0.0175\n",
      "Epoch 20/50\n",
      "300/300 [==============================] - 12s 39ms/step - loss: 0.2658 - duration_loss: 0.0612 - pitch_loss: 3.7577 - step_loss: 0.0167\n",
      "Epoch 21/50\n",
      "300/300 [==============================] - 12s 39ms/step - loss: 0.2684 - duration_loss: 0.0625 - pitch_loss: 3.7657 - step_loss: 0.0176\n",
      "Epoch 22/50\n",
      "300/300 [==============================] - 12s 39ms/step - loss: 0.2650 - duration_loss: 0.0602 - pitch_loss: 3.7616 - step_loss: 0.0167\n",
      "Epoch 23/50\n",
      "300/300 [==============================] - 11s 37ms/step - loss: 0.2648 - duration_loss: 0.0604 - pitch_loss: 3.7539 - step_loss: 0.0167\n",
      "Epoch 24/50\n",
      "300/300 [==============================] - 12s 39ms/step - loss: 0.2611 - duration_loss: 0.0590 - pitch_loss: 3.7349 - step_loss: 0.0153\n",
      "Epoch 25/50\n",
      "300/300 [==============================] - 12s 39ms/step - loss: 0.2581 - duration_loss: 0.0575 - pitch_loss: 3.7193 - step_loss: 0.0147\n",
      "Epoch 26/50\n",
      "300/300 [==============================] - 12s 39ms/step - loss: 0.2567 - duration_loss: 0.0567 - pitch_loss: 3.7163 - step_loss: 0.0141\n",
      "Epoch 27/50\n",
      "300/300 [==============================] - 12s 40ms/step - loss: 0.2570 - duration_loss: 0.0568 - pitch_loss: 3.7227 - step_loss: 0.0141\n",
      "Epoch 28/50\n",
      "300/300 [==============================] - 12s 39ms/step - loss: 0.2560 - duration_loss: 0.0569 - pitch_loss: 3.6987 - step_loss: 0.0142\n",
      "Epoch 29/50\n",
      "300/300 [==============================] - 12s 39ms/step - loss: 0.2563 - duration_loss: 0.0562 - pitch_loss: 3.7066 - step_loss: 0.0148\n",
      "Epoch 30/50\n",
      "300/300 [==============================] - 11s 38ms/step - loss: 0.2496 - duration_loss: 0.0536 - pitch_loss: 3.6697 - step_loss: 0.0125\n",
      "Epoch 31/50\n",
      "300/300 [==============================] - 12s 39ms/step - loss: 0.2476 - duration_loss: 0.0521 - pitch_loss: 3.6555 - step_loss: 0.0128\n",
      "Epoch 32/50\n",
      "300/300 [==============================] - 12s 39ms/step - loss: 0.2455 - duration_loss: 0.0511 - pitch_loss: 3.6383 - step_loss: 0.0125\n",
      "Epoch 33/50\n",
      "300/300 [==============================] - 12s 39ms/step - loss: 0.2437 - duration_loss: 0.0497 - pitch_loss: 3.6294 - step_loss: 0.0126\n",
      "Epoch 34/50\n",
      "300/300 [==============================] - 12s 39ms/step - loss: 0.2406 - duration_loss: 0.0486 - pitch_loss: 3.6044 - step_loss: 0.0117\n",
      "Epoch 35/50\n",
      "300/300 [==============================] - 12s 39ms/step - loss: 0.2414 - duration_loss: 0.0490 - pitch_loss: 3.6125 - step_loss: 0.0118\n",
      "Epoch 36/50\n",
      "300/300 [==============================] - 12s 39ms/step - loss: 0.2418 - duration_loss: 0.0495 - pitch_loss: 3.6126 - step_loss: 0.0117\n",
      "Epoch 37/50\n",
      "300/300 [==============================] - 12s 39ms/step - loss: 0.2361 - duration_loss: 0.0462 - pitch_loss: 3.5741 - step_loss: 0.0112\n",
      "Epoch 38/50\n",
      "300/300 [==============================] - 12s 39ms/step - loss: 0.2333 - duration_loss: 0.0445 - pitch_loss: 3.5555 - step_loss: 0.0110\n",
      "Epoch 39/50\n",
      "300/300 [==============================] - 12s 39ms/step - loss: 0.2340 - duration_loss: 0.0452 - pitch_loss: 3.5472 - step_loss: 0.0115\n",
      "Epoch 40/50\n",
      "300/300 [==============================] - 12s 39ms/step - loss: 0.2318 - duration_loss: 0.0437 - pitch_loss: 3.5379 - step_loss: 0.0113\n",
      "Epoch 41/50\n",
      "300/300 [==============================] - 12s 38ms/step - loss: 0.2309 - duration_loss: 0.0435 - pitch_loss: 3.5262 - step_loss: 0.0111\n",
      "Epoch 42/50\n",
      "300/300 [==============================] - 12s 38ms/step - loss: 0.2284 - duration_loss: 0.0425 - pitch_loss: 3.5089 - step_loss: 0.0105\n",
      "Epoch 43/50\n",
      "300/300 [==============================] - 12s 39ms/step - loss: 0.2271 - duration_loss: 0.0414 - pitch_loss: 3.5027 - step_loss: 0.0105\n",
      "Epoch 44/50\n",
      "300/300 [==============================] - 12s 39ms/step - loss: 0.2251 - duration_loss: 0.0401 - pitch_loss: 3.4958 - step_loss: 0.0102\n",
      "Epoch 45/50\n",
      "300/300 [==============================] - 11s 38ms/step - loss: 0.2239 - duration_loss: 0.0400 - pitch_loss: 3.4768 - step_loss: 0.0101\n",
      "Epoch 46/50\n",
      "300/300 [==============================] - 12s 39ms/step - loss: 0.2219 - duration_loss: 0.0382 - pitch_loss: 3.4753 - step_loss: 0.0099\n",
      "Epoch 47/50\n",
      "300/300 [==============================] - 12s 39ms/step - loss: 0.2243 - duration_loss: 0.0401 - pitch_loss: 3.4788 - step_loss: 0.0102\n",
      "Epoch 48/50\n",
      "300/300 [==============================] - 12s 40ms/step - loss: 0.2222 - duration_loss: 0.0385 - pitch_loss: 3.4784 - step_loss: 0.0097\n",
      "Epoch 49/50\n",
      "300/300 [==============================] - 12s 39ms/step - loss: 0.2178 - duration_loss: 0.0359 - pitch_loss: 3.4426 - step_loss: 0.0097\n",
      "Epoch 50/50\n",
      "300/300 [==============================] - 12s 40ms/step - loss: 0.2154 - duration_loss: 0.0345 - pitch_loss: 3.4253 - step_loss: 0.0096\n",
      "CPU times: user 13min 40s, sys: 44.1 s, total: 14min 24s\n",
      "Wall time: 14min 54s\n"
     ]
    }
   ],
   "source": [
    "%%time\n",
    "epochs = 50\n",
    "\n",
    "history = model.fit(\n",
    "    train_ds,\n",
    "    epochs=epochs,\n",
    "    callbacks=callbacks,\n",
    ")"
   ]
  },
  {
   "cell_type": "code",
   "execution_count": null,
   "metadata": {
    "colab": {
     "base_uri": "https://localhost:8080/",
     "height": 430
    },
    "execution": {
     "iopub.execute_input": "2022-12-02T13:24:53.774002Z",
     "iopub.status.busy": "2022-12-02T13:24:53.773643Z",
     "iopub.status.idle": "2022-12-02T13:24:53.952999Z",
     "shell.execute_reply": "2022-12-02T13:24:53.95201Z",
     "shell.execute_reply.started": "2022-12-02T13:24:53.773965Z"
    },
    "id": "i5K-6fj4AXyg",
    "outputId": "bd1d5f3c-edfa-4b70-c5bb-d8ba0eebfe0c"
   },
   "outputs": [
    {
     "data": {
      "image/png": "[encoded data removed]",
      "text/plain": [
       "<Figure size 640x480 with 1 Axes>"
      ]
     },
     "metadata": {},
     "output_type": "display_data"
    }
   ],
   "source": [
    "plt.plot(history.epoch, history.history['loss'], label='total loss')\n",
    "plt.show()"
   ]
  },
  {
   "cell_type": "markdown",
   "metadata": {
    "id": "NuUda7I7AXyg"
   },
   "source": [
    "# **Generate notes**\n",
    "To use the model to generate notes, you will first need to provide a starting sequence of notes. The function below generates one note from a sequence of notes.\n",
    "\n",
    "For note pitch, it draws a sample from the softmax distribution of notes produced by the model, and does not simply pick the note with the highest probability. Always picking the note with the highest probability would lead to repetitive sequences of notes being generated.\n",
    "\n",
    "The temperature parameter can be used to control the randomness of notes generated. You can find more details on temperature in Text generation with an RNN."
   ]
  },
  {
   "cell_type": "code",
   "execution_count": null,
   "metadata": {
    "execution": {
     "iopub.execute_input": "2022-12-02T13:24:53.955757Z",
     "iopub.status.busy": "2022-12-02T13:24:53.955387Z",
     "iopub.status.idle": "2022-12-02T13:24:53.963439Z",
     "shell.execute_reply": "2022-12-02T13:24:53.962413Z",
     "shell.execute_reply.started": "2022-12-02T13:24:53.955721Z"
    },
    "id": "545SD1Q1AXyh"
   },
   "outputs": [],
   "source": [
    "def predict_next_note(\n",
    "    notes: np.ndarray,\n",
    "    keras_model: tf.keras.Model,\n",
    "    temperature: float = 1.0) -> int:\n",
    "  \"\"\"Generates a note IDs using a trained sequence model.\"\"\"\n",
    "\n",
    "  assert temperature > 0\n",
    "\n",
    "  # Add batch dimension\n",
    "  inputs = tf.expand_dims(notes, 0)\n",
    "\n",
    "  predictions = model.predict(inputs)\n",
    "  pitch_logits = predictions['pitch']\n",
    "  step = predictions['step']\n",
    "  duration = predictions['duration']\n",
    "\n",
    "  pitch_logits /= temperature\n",
    "  pitch = tf.random.categorical(pitch_logits, num_samples=1)\n",
    "  pitch = tf.squeeze(pitch, axis=-1)\n",
    "  duration = tf.squeeze(duration, axis=-1)\n",
    "  step = tf.squeeze(step, axis=-1)\n",
    "\n",
    "  # `step` and `duration` values should be non-negative\n",
    "  step = tf.maximum(0, step)\n",
    "  duration = tf.maximum(0, duration)\n",
    "\n",
    "  return int(pitch), float(step), float(duration)"
   ]
  },
  {
   "cell_type": "markdown",
   "metadata": {
    "id": "xQrdYEE3AXyi"
   },
   "source": [
    "Now generate some notes. You can play around with temperature and the starting sequence in next_notes and see what happens."
   ]
  },
  {
   "cell_type": "code",
   "execution_count": null,
   "metadata": {
    "colab": {
     "base_uri": "https://localhost:8080/"
    },
    "execution": {
     "iopub.execute_input": "2022-12-02T13:24:53.9655Z",
     "iopub.status.busy": "2022-12-02T13:24:53.964918Z",
     "iopub.status.idle": "2022-12-02T13:24:59.186539Z",
     "shell.execute_reply": "2022-12-02T13:24:59.185568Z",
     "shell.execute_reply.started": "2022-12-02T13:24:53.965464Z"
    },
    "id": "vE_Hy9F-AXyi",
    "outputId": "eed9345a-cfa8-4210-fd2e-02c31898fb08"
   },
   "outputs": [
    {
     "name": "stdout",
     "output_type": "stream",
     "text": [
      "1/1 [==============================] - 0s 455ms/step\n",
      "1/1 [==============================] - 0s 24ms/step\n",
      "1/1 [==============================] - 0s 28ms/step\n",
      "1/1 [==============================] - 0s 24ms/step\n",
      "1/1 [==============================] - 0s 22ms/step\n",
      "1/1 [==============================] - 0s 22ms/step\n",
      "1/1 [==============================] - 0s 24ms/step\n",
      "1/1 [==============================] - 0s 23ms/step\n",
      "1/1 [==============================] - 0s 22ms/step\n",
      "1/1 [==============================] - 0s 23ms/step\n",
      "1/1 [==============================] - 0s 23ms/step\n",
      "1/1 [==============================] - 0s 36ms/step\n",
      "1/1 [==============================] - 0s 25ms/step\n",
      "1/1 [==============================] - 0s 23ms/step\n",
      "1/1 [==============================] - 0s 25ms/step\n",
      "1/1 [==============================] - 0s 24ms/step\n",
      "1/1 [==============================] - 0s 26ms/step\n",
      "1/1 [==============================] - 0s 25ms/step\n",
      "1/1 [==============================] - 0s 23ms/step\n",
      "1/1 [==============================] - 0s 23ms/step\n",
      "1/1 [==============================] - 0s 23ms/step\n",
      "1/1 [==============================] - 0s 24ms/step\n",
      "1/1 [==============================] - 0s 24ms/step\n",
      "1/1 [==============================] - 0s 23ms/step\n",
      "1/1 [==============================] - 0s 26ms/step\n",
      "1/1 [==============================] - 0s 24ms/step\n",
      "1/1 [==============================] - 0s 24ms/step\n",
      "1/1 [==============================] - 0s 24ms/step\n",
      "1/1 [==============================] - 0s 26ms/step\n",
      "1/1 [==============================] - 0s 25ms/step\n",
      "1/1 [==============================] - 0s 24ms/step\n",
      "1/1 [==============================] - 0s 24ms/step\n",
      "1/1 [==============================] - 0s 25ms/step\n",
      "1/1 [==============================] - 0s 23ms/step\n",
      "1/1 [==============================] - 0s 23ms/step\n",
      "1/1 [==============================] - 0s 22ms/step\n",
      "1/1 [==============================] - 0s 25ms/step\n",
      "1/1 [==============================] - 0s 24ms/step\n",
      "1/1 [==============================] - 0s 24ms/step\n",
      "1/1 [==============================] - 0s 24ms/step\n",
      "1/1 [==============================] - 0s 27ms/step\n",
      "1/1 [==============================] - 0s 26ms/step\n",
      "1/1 [==============================] - 0s 24ms/step\n",
      "1/1 [==============================] - 0s 24ms/step\n",
      "1/1 [==============================] - 0s 26ms/step\n",
      "1/1 [==============================] - 0s 24ms/step\n",
      "1/1 [==============================] - 0s 22ms/step\n",
      "1/1 [==============================] - 0s 25ms/step\n",
      "1/1 [==============================] - 0s 24ms/step\n",
      "1/1 [==============================] - 0s 33ms/step\n",
      "1/1 [==============================] - 0s 25ms/step\n",
      "1/1 [==============================] - 0s 27ms/step\n",
      "1/1 [==============================] - 0s 25ms/step\n",
      "1/1 [==============================] - 0s 25ms/step\n",
      "1/1 [==============================] - 0s 24ms/step\n",
      "1/1 [==============================] - 0s 23ms/step\n",
      "1/1 [==============================] - 0s 24ms/step\n",
      "1/1 [==============================] - 0s 21ms/step\n",
      "1/1 [==============================] - 0s 23ms/step\n",
      "1/1 [==============================] - 0s 27ms/step\n",
      "1/1 [==============================] - 0s 23ms/step\n",
      "1/1 [==============================] - 0s 23ms/step\n",
      "1/1 [==============================] - 0s 35ms/step\n",
      "1/1 [==============================] - 0s 25ms/step\n",
      "1/1 [==============================] - 0s 25ms/step\n",
      "1/1 [==============================] - 0s 27ms/step\n",
      "1/1 [==============================] - 0s 23ms/step\n",
      "1/1 [==============================] - 0s 28ms/step\n",
      "1/1 [==============================] - 0s 21ms/step\n",
      "1/1 [==============================] - 0s 22ms/step\n",
      "1/1 [==============================] - 0s 25ms/step\n",
      "1/1 [==============================] - 0s 22ms/step\n",
      "1/1 [==============================] - 0s 23ms/step\n",
      "1/1 [==============================] - 0s 23ms/step\n",
      "1/1 [==============================] - 0s 24ms/step\n",
      "1/1 [==============================] - 0s 27ms/step\n",
      "1/1 [==============================] - 0s 25ms/step\n",
      "1/1 [==============================] - 0s 25ms/step\n",
      "1/1 [==============================] - 0s 24ms/step\n",
      "1/1 [==============================] - 0s 25ms/step\n",
      "1/1 [==============================] - 0s 23ms/step\n",
      "1/1 [==============================] - 0s 22ms/step\n",
      "1/1 [==============================] - 0s 38ms/step\n",
      "1/1 [==============================] - 0s 37ms/step\n",
      "1/1 [==============================] - 0s 41ms/step\n",
      "1/1 [==============================] - 0s 46ms/step\n",
      "1/1 [==============================] - 0s 41ms/step\n",
      "1/1 [==============================] - 0s 38ms/step\n",
      "1/1 [==============================] - 0s 36ms/step\n",
      "1/1 [==============================] - 0s 39ms/step\n",
      "1/1 [==============================] - 0s 35ms/step\n",
      "1/1 [==============================] - 0s 35ms/step\n",
      "1/1 [==============================] - 0s 36ms/step\n",
      "1/1 [==============================] - 0s 36ms/step\n",
      "1/1 [==============================] - 0s 41ms/step\n",
      "1/1 [==============================] - 0s 47ms/step\n",
      "1/1 [==============================] - 0s 35ms/step\n",
      "1/1 [==============================] - 0s 36ms/step\n",
      "1/1 [==============================] - 0s 41ms/step\n",
      "1/1 [==============================] - 0s 38ms/step\n",
      "1/1 [==============================] - 0s 37ms/step\n",
      "1/1 [==============================] - 0s 42ms/step\n",
      "1/1 [==============================] - 0s 30ms/step\n",
      "1/1 [==============================] - 0s 30ms/step\n",
      "1/1 [==============================] - 0s 26ms/step\n",
      "1/1 [==============================] - 0s 25ms/step\n",
      "1/1 [==============================] - 0s 32ms/step\n",
      "1/1 [==============================] - 0s 27ms/step\n",
      "1/1 [==============================] - 0s 23ms/step\n",
      "1/1 [==============================] - 0s 21ms/step\n",
      "1/1 [==============================] - 0s 23ms/step\n",
      "1/1 [==============================] - 0s 26ms/step\n",
      "1/1 [==============================] - 0s 23ms/step\n",
      "1/1 [==============================] - 0s 23ms/step\n",
      "1/1 [==============================] - 0s 25ms/step\n",
      "1/1 [==============================] - 0s 29ms/step\n",
      "1/1 [==============================] - 0s 24ms/step\n",
      "1/1 [==============================] - 0s 25ms/step\n",
      "1/1 [==============================] - 0s 24ms/step\n",
      "1/1 [==============================] - 0s 23ms/step\n"
     ]
    }
   ],
   "source": [
    "temperature = 2.0\n",
    "num_predictions = 120\n",
    "\n",
    "sample_notes = np.stack([raw_notes[key] for key in key_order], axis=1)\n",
    "\n",
    "# The initial sequence of notes; pitch is normalized similar to training\n",
    "# sequences\n",
    "input_notes = (\n",
    "    sample_notes[:seq_length] / np.array([vocab_size, 1, 1]))\n",
    "\n",
    "generated_notes = []\n",
    "prev_start = 0\n",
    "for _ in range(num_predictions):\n",
    "  pitch, step, duration = predict_next_note(input_notes, model, temperature)\n",
    "  start = prev_start + step\n",
    "  end = start + duration\n",
    "  input_note = (pitch, step, duration)\n",
    "  generated_notes.append((*input_note, start, end))\n",
    "  input_notes = np.delete(input_notes, 0, axis=0)\n",
    "  input_notes = np.append(input_notes, np.expand_dims(input_note, 0), axis=0)\n",
    "  prev_start = start\n",
    "\n",
    "generated_notes = pd.DataFrame(\n",
    "    generated_notes, columns=(*key_order, 'start', 'end'))"
   ]
  },
  {
   "cell_type": "code",
   "execution_count": null,
   "metadata": {
    "colab": {
     "base_uri": "https://localhost:8080/",
     "height": 363
    },
    "execution": {
     "iopub.execute_input": "2022-12-02T13:24:59.188308Z",
     "iopub.status.busy": "2022-12-02T13:24:59.18793Z",
     "iopub.status.idle": "2022-12-02T13:24:59.20199Z",
     "shell.execute_reply": "2022-12-02T13:24:59.200336Z",
     "shell.execute_reply.started": "2022-12-02T13:24:59.188272Z"
    },
    "id": "iz_oRtprAXyj",
    "outputId": "65dec577-a9a7-4dd5-861e-fedac796cf8f"
   },
   "outputs": [
    {
     "data": {
      "application/vnd.google.colaboratory.intrinsic+json": {
       "summary": "{\n  \"name\": \"generated_notes\",\n  \"rows\": 120,\n  \"fields\": [\n    {\n      \"column\": \"pitch\",\n      \"properties\": {\n        \"dtype\": \"number\",\n        \"std\": 12,\n        \"min\": 42,\n        \"max\": 99,\n        \"num_unique_values\": 27,\n        \"samples\": [\n          94,\n          82,\n          42\n        ],\n        \"semantic_type\": \"\",\n        \"description\": \"\"\n      }\n    },\n    {\n      \"column\": \"step\",\n      \"properties\": {\n        \"dtype\": \"number\",\n        \"std\": 0.005133422072379863,\n        \"min\": 0.01994463801383972,\n        \"max\": 0.0686383843421936,\n        \"num_unique_values\": 106,\n        \"samples\": [\n          0.020256400108337402,\n          0.020926088094711304,\n          0.020934537053108215\n        ],\n        \"semantic_type\": \"\",\n        \"description\": \"\"\n      }\n    },\n    {\n      \"column\": \"duration\",\n      \"properties\": {\n        \"dtype\": \"number\",\n        \"std\": 0.01064771441551088,\n        \"min\": 0.0,\n        \"max\": 0.1166398674249649,\n        \"num_unique_values\": 2,\n        \"samples\": [\n          0.0,\n          0.1166398674249649\n        ],\n        \"semantic_type\": \"\",\n        \"description\": \"\"\n      }\n    },\n    {\n      \"column\": \"start\",\n      \"properties\": {\n        \"dtype\": \"number\",\n        \"std\": 0.7315772022988384,\n        \"min\": 0.0686383843421936,\n        \"max\": 2.583962842822075,\n        \"num_unique_values\": 120,\n        \"samples\": [\n          1.0076335668563843,\n          1.0849150866270065\n        ],\n        \"semantic_type\": \"\",\n        \"description\": \"\"\n      }\n    },\n    {\n      \"column\": \"end\",\n      \"properties\": {\n        \"dtype\": \"number\",\n        \"std\": 0.7299560530354489,\n        \"min\": 0.08918595314025879,\n        \"max\": 2.583962842822075,\n        \"num_unique_values\": 120,\n        \"samples\": [\n          1.0076335668563843,\n          1.0849150866270065\n        ],\n        \"semantic_type\": \"\",\n        \"description\": \"\"\n      }\n    }\n  ]\n}",
       "type": "dataframe",
       "variable_name": "generated_notes"
      },
      "text/html": [
       "\n",
       "  <div id=\"df-67ee8309-8552-43b9-a3c9-de42a1b2def3\" class=\"colab-df-container\">\n",
       "    <div>\n",
       "<style scoped>\n",
       "    .dataframe tbody tr th:only-of-type {\n",
       "        vertical-align: middle;\n",
       "    }\n",
       "\n",
       "    .dataframe tbody tr th {\n",
       "        vertical-align: top;\n",
       "    }\n",
       "\n",
       "    .dataframe thead th {\n",
       "        text-align: right;\n",
       "    }\n",
       "</style>\n",
       "<table border=\"1\" class=\"dataframe\">\n",
       "  <thead>\n",
       "    <tr style=\"text-align: right;\">\n",
       "      <th></th>\n",
       "      <th>pitch</th>\n",
       "      <th>step</th>\n",
       "      <th>duration</th>\n",
       "      <th>start</th>\n",
       "      <th>end</th>\n",
       "    </tr>\n",
       "  </thead>\n",
       "  <tbody>\n",
       "    <tr>\n",
       "      <th>0</th>\n",
       "      <td>65</td>\n",
       "      <td>0.068638</td>\n",
       "      <td>0.11664</td>\n",
       "      <td>0.068638</td>\n",
       "      <td>0.185278</td>\n",
       "    </tr>\n",
       "    <tr>\n",
       "      <th>1</th>\n",
       "      <td>96</td>\n",
       "      <td>0.020548</td>\n",
       "      <td>0.00000</td>\n",
       "      <td>0.089186</td>\n",
       "      <td>0.089186</td>\n",
       "    </tr>\n",
       "    <tr>\n",
       "      <th>2</th>\n",
       "      <td>96</td>\n",
       "      <td>0.020552</td>\n",
       "      <td>0.00000</td>\n",
       "      <td>0.109738</td>\n",
       "      <td>0.109738</td>\n",
       "    </tr>\n",
       "    <tr>\n",
       "      <th>3</th>\n",
       "      <td>89</td>\n",
       "      <td>0.020740</td>\n",
       "      <td>0.00000</td>\n",
       "      <td>0.130479</td>\n",
       "      <td>0.130479</td>\n",
       "    </tr>\n",
       "    <tr>\n",
       "      <th>4</th>\n",
       "      <td>91</td>\n",
       "      <td>0.020935</td>\n",
       "      <td>0.00000</td>\n",
       "      <td>0.151413</td>\n",
       "      <td>0.151413</td>\n",
       "    </tr>\n",
       "    <tr>\n",
       "      <th>5</th>\n",
       "      <td>91</td>\n",
       "      <td>0.020562</td>\n",
       "      <td>0.00000</td>\n",
       "      <td>0.171975</td>\n",
       "      <td>0.171975</td>\n",
       "    </tr>\n",
       "    <tr>\n",
       "      <th>6</th>\n",
       "      <td>69</td>\n",
       "      <td>0.020268</td>\n",
       "      <td>0.00000</td>\n",
       "      <td>0.192243</td>\n",
       "      <td>0.192243</td>\n",
       "    </tr>\n",
       "    <tr>\n",
       "      <th>7</th>\n",
       "      <td>91</td>\n",
       "      <td>0.021328</td>\n",
       "      <td>0.00000</td>\n",
       "      <td>0.213571</td>\n",
       "      <td>0.213571</td>\n",
       "    </tr>\n",
       "    <tr>\n",
       "      <th>8</th>\n",
       "      <td>49</td>\n",
       "      <td>0.020437</td>\n",
       "      <td>0.00000</td>\n",
       "      <td>0.234007</td>\n",
       "      <td>0.234007</td>\n",
       "    </tr>\n",
       "    <tr>\n",
       "      <th>9</th>\n",
       "      <td>91</td>\n",
       "      <td>0.028281</td>\n",
       "      <td>0.00000</td>\n",
       "      <td>0.262288</td>\n",
       "      <td>0.262288</td>\n",
       "    </tr>\n",
       "  </tbody>\n",
       "</table>\n",
       "</div>\n",
       "    <div class=\"colab-df-buttons\">\n",
       "\n",
       "  <div class=\"colab-df-container\">\n",
       "    <button class=\"colab-df-convert\" onclick=\"convertToInteractive('df-67ee8309-8552-43b9-a3c9-de42a1b2def3')\"\n",
       "            title=\"Convert this dataframe to an interactive table.\"\n",
       "            style=\"display:none;\">\n",
       "\n",
       "  <svg xmlns=\"http://www.w3.org/2000/svg\" height=\"24px\" viewBox=\"0 -960 960 960\">\n",
       "    <path d=\"M120-120v-720h720v720H120Zm60-500h600v-160H180v160Zm220 220h160v-160H400v160Zm0 220h160v-160H400v160ZM180-400h160v-160H180v160Zm440 0h160v-160H620v160ZM180-180h160v-160H180v160Zm440 0h160v-160H620v160Z\"/>\n",
       "  </svg>\n",
       "    </button>\n",
       "\n",
       "  <style>\n",
       "    .colab-df-container {\n",
       "      display:flex;\n",
       "      gap: 12px;\n",
       "    }\n",
       "\n",
       "    .colab-df-convert {\n",
       "      background-color: #E8F0FE;\n",
       "      border: none;\n",
       "      border-radius: 50%;\n",
       "      cursor: pointer;\n",
       "      display: none;\n",
       "      fill: #1967D2;\n",
       "      height: 32px;\n",
       "      padding: 0 0 0 0;\n",
       "      width: 32px;\n",
       "    }\n",
       "\n",
       "    .colab-df-convert:hover {\n",
       "      background-color: #E2EBFA;\n",
       "      box-shadow: 0px 1px 2px rgba(60, 64, 67, 0.3), 0px 1px 3px 1px rgba(60, 64, 67, 0.15);\n",
       "      fill: #174EA6;\n",
       "    }\n",
       "\n",
       "    .colab-df-buttons div {\n",
       "      margin-bottom: 4px;\n",
       "    }\n",
       "\n",
       "    [theme=dark] .colab-df-convert {\n",
       "      background-color: #3B4455;\n",
       "      fill: #D2E3FC;\n",
       "    }\n",
       "\n",
       "    [theme=dark] .colab-df-convert:hover {\n",
       "      background-color: #434B5C;\n",
       "      box-shadow: 0px 1px 3px 1px rgba(0, 0, 0, 0.15);\n",
       "      filter: drop-shadow(0px 1px 2px rgba(0, 0, 0, 0.3));\n",
       "      fill: #FFFFFF;\n",
       "    }\n",
       "  </style>\n",
       "\n",
       "    <script>\n",
       "      const buttonEl =\n",
       "        document.querySelector('#df-67ee8309-8552-43b9-a3c9-de42a1b2def3 button.colab-df-convert');\n",
       "      buttonEl.style.display =\n",
       "        google.colab.kernel.accessAllowed ? 'block' : 'none';\n",
       "\n",
       "      async function convertToInteractive(key) {\n",
       "        const element = document.querySelector('#df-67ee8309-8552-43b9-a3c9-de42a1b2def3');\n",
       "        const dataTable =\n",
       "          await google.colab.kernel.invokeFunction('convertToInteractive',\n",
       "                                                    [key], {});\n",
       "        if (!dataTable) return;\n",
       "\n",
       "        const docLinkHtml = 'Like what you see? Visit the ' +\n",
       "          '<a target=\"_blank\" href=https://colab.research.google.com/notebooks/data_table.ipynb>data table notebook</a>'\n",
       "          + ' to learn more about interactive tables.';\n",
       "        element.innerHTML = '';\n",
       "        dataTable['output_type'] = 'display_data';\n",
       "        await google.colab.output.renderOutput(dataTable, element);\n",
       "        const docLink = document.createElement('div');\n",
       "        docLink.innerHTML = docLinkHtml;\n",
       "        element.appendChild(docLink);\n",
       "      }\n",
       "    </script>\n",
       "  </div>\n",
       "\n",
       "\n",
       "<div id=\"df-424e51c7-d194-4812-b621-d2df1228c8e7\">\n",
       "  <button class=\"colab-df-quickchart\" onclick=\"quickchart('df-424e51c7-d194-4812-b621-d2df1228c8e7')\"\n",
       "            title=\"Suggest charts\"\n",
       "            style=\"display:none;\">\n",
       "\n",
       "<svg xmlns=\"http://www.w3.org/2000/svg\" height=\"24px\"viewBox=\"0 0 24 24\"\n",
       "     width=\"24px\">\n",
       "    <g>\n",
       "        <path d=\"M19 3H5c-1.1 0-2 .9-2 2v14c0 1.1.9 2 2 2h14c1.1 0 2-.9 2-2V5c0-1.1-.9-2-2-2zM9 17H7v-7h2v7zm4 0h-2V7h2v10zm4 0h-2v-4h2v4z\"/>\n",
       "    </g>\n",
       "</svg>\n",
       "  </button>\n",
       "\n",
       "<style>\n",
       "  .colab-df-quickchart {\n",
       "      --bg-color: #E8F0FE;\n",
       "      --fill-color: #1967D2;\n",
       "      --hover-bg-color: #E2EBFA;\n",
       "      --hover-fill-color: #174EA6;\n",
       "      --disabled-fill-color: #AAA;\n",
       "      --disabled-bg-color: #DDD;\n",
       "  }\n",
       "\n",
       "  [theme=dark] .colab-df-quickchart {\n",
       "      --bg-color: #3B4455;\n",
       "      --fill-color: #D2E3FC;\n",
       "      --hover-bg-color: #434B5C;\n",
       "      --hover-fill-color: #FFFFFF;\n",
       "      --disabled-bg-color: #3B4455;\n",
       "      --disabled-fill-color: #666;\n",
       "  }\n",
       "\n",
       "  .colab-df-quickchart {\n",
       "    background-color: var(--bg-color);\n",
       "    border: none;\n",
       "    border-radius: 50%;\n",
       "    cursor: pointer;\n",
       "    display: none;\n",
       "    fill: var(--fill-color);\n",
       "    height: 32px;\n",
       "    padding: 0;\n",
       "    width: 32px;\n",
       "  }\n",
       "\n",
       "  .colab-df-quickchart:hover {\n",
       "    background-color: var(--hover-bg-color);\n",
       "    box-shadow: 0 1px 2px rgba(60, 64, 67, 0.3), 0 1px 3px 1px rgba(60, 64, 67, 0.15);\n",
       "    fill: var(--button-hover-fill-color);\n",
       "  }\n",
       "\n",
       "  .colab-df-quickchart-complete:disabled,\n",
       "  .colab-df-quickchart-complete:disabled:hover {\n",
       "    background-color: var(--disabled-bg-color);\n",
       "    fill: var(--disabled-fill-color);\n",
       "    box-shadow: none;\n",
       "  }\n",
       "\n",
       "  .colab-df-spinner {\n",
       "    border: 2px solid var(--fill-color);\n",
       "    border-color: transparent;\n",
       "    border-bottom-color: var(--fill-color);\n",
       "    animation:\n",
       "      spin 1s steps(1) infinite;\n",
       "  }\n",
       "\n",
       "  @keyframes spin {\n",
       "    0% {\n",
       "      border-color: transparent;\n",
       "      border-bottom-color: var(--fill-color);\n",
       "      border-left-color: var(--fill-color);\n",
       "    }\n",
       "    20% {\n",
       "      border-color: transparent;\n",
       "      border-left-color: var(--fill-color);\n",
       "      border-top-color: var(--fill-color);\n",
       "    }\n",
       "    30% {\n",
       "      border-color: transparent;\n",
       "      border-left-color: var(--fill-color);\n",
       "      border-top-color: var(--fill-color);\n",
       "      border-right-color: var(--fill-color);\n",
       "    }\n",
       "    40% {\n",
       "      border-color: transparent;\n",
       "      border-right-color: var(--fill-color);\n",
       "      border-top-color: var(--fill-color);\n",
       "    }\n",
       "    60% {\n",
       "      border-color: transparent;\n",
       "      border-right-color: var(--fill-color);\n",
       "    }\n",
       "    80% {\n",
       "      border-color: transparent;\n",
       "      border-right-color: var(--fill-color);\n",
       "      border-bottom-color: var(--fill-color);\n",
       "    }\n",
       "    90% {\n",
       "      border-color: transparent;\n",
       "      border-bottom-color: var(--fill-color);\n",
       "    }\n",
       "  }\n",
       "</style>\n",
       "\n",
       "  <script>\n",
       "    async function quickchart(key) {\n",
       "      const quickchartButtonEl =\n",
       "        document.querySelector('#' + key + ' button');\n",
       "      quickchartButtonEl.disabled = true;  // To prevent multiple clicks.\n",
       "      quickchartButtonEl.classList.add('colab-df-spinner');\n",
       "      try {\n",
       "        const charts = await google.colab.kernel.invokeFunction(\n",
       "            'suggestCharts', [key], {});\n",
       "      } catch (error) {\n",
       "        console.error('Error during call to suggestCharts:', error);\n",
       "      }\n",
       "      quickchartButtonEl.classList.remove('colab-df-spinner');\n",
       "      quickchartButtonEl.classList.add('colab-df-quickchart-complete');\n",
       "    }\n",
       "    (() => {\n",
       "      let quickchartButtonEl =\n",
       "        document.querySelector('#df-424e51c7-d194-4812-b621-d2df1228c8e7 button');\n",
       "      quickchartButtonEl.style.display =\n",
       "        google.colab.kernel.accessAllowed ? 'block' : 'none';\n",
       "    })();\n",
       "  </script>\n",
       "</div>\n",
       "\n",
       "    </div>\n",
       "  </div>\n"
      ],
      "text/plain": [
       "   pitch      step  duration     start       end\n",
       "0     65  0.068638   0.11664  0.068638  0.185278\n",
       "1     96  0.020548   0.00000  0.089186  0.089186\n",
       "2     96  0.020552   0.00000  0.109738  0.109738\n",
       "3     89  0.020740   0.00000  0.130479  0.130479\n",
       "4     91  0.020935   0.00000  0.151413  0.151413\n",
       "5     91  0.020562   0.00000  0.171975  0.171975\n",
       "6     69  0.020268   0.00000  0.192243  0.192243\n",
       "7     91  0.021328   0.00000  0.213571  0.213571\n",
       "8     49  0.020437   0.00000  0.234007  0.234007\n",
       "9     91  0.028281   0.00000  0.262288  0.262288"
      ]
     },
     "execution_count": 40,
     "metadata": {},
     "output_type": "execute_result"
    }
   ],
   "source": [
    "generated_notes.head(10)"
   ]
  },
  {
   "cell_type": "code",
   "execution_count": null,
   "metadata": {
    "execution": {
     "iopub.execute_input": "2022-12-02T13:24:59.204475Z",
     "iopub.status.busy": "2022-12-02T13:24:59.203819Z",
     "iopub.status.idle": "2022-12-02T13:24:59.233214Z",
     "shell.execute_reply": "2022-12-02T13:24:59.232398Z",
     "shell.execute_reply.started": "2022-12-02T13:24:59.204438Z"
    },
    "id": "iHQNl_tWAXyk"
   },
   "outputs": [],
   "source": [
    "out_file = 'output.mid'\n",
    "out_pm = notes_to_midi(\n",
    "    generated_notes, out_file=out_file, instrument_name=instrument_name)\n",
    "# display_audio(out_pm)"
   ]
  },
  {
   "cell_type": "code",
   "execution_count": null,
   "metadata": {
    "colab": {
     "base_uri": "https://localhost:8080/"
    },
    "execution": {
     "iopub.execute_input": "2022-12-02T13:24:59.234957Z",
     "iopub.status.busy": "2022-12-02T13:24:59.234601Z",
     "iopub.status.idle": "2022-12-02T13:24:59.239195Z",
     "shell.execute_reply": "2022-12-02T13:24:59.238041Z",
     "shell.execute_reply.started": "2022-12-02T13:24:59.234922Z"
    },
    "id": "p1Z71fg0AXyk",
    "outputId": "84c4ff88-e668-40b3-befc-64563a22814d"
   },
   "outputs": [
    {
     "name": "stdout",
     "output_type": "stream",
     "text": [
      "Requirement already satisfied: google.colab in /usr/local/lib/python3.10/dist-packages (1.0.0)\n",
      "Requirement already satisfied: google-auth==2.27.0 in /usr/local/lib/python3.10/dist-packages (from google.colab) (2.27.0)\n",
      "Requirement already satisfied: ipykernel==5.5.6 in /usr/local/lib/python3.10/dist-packages (from google.colab) (5.5.6)\n",
      "Requirement already satisfied: ipython==7.34.0 in /usr/local/lib/python3.10/dist-packages (from google.colab) (7.34.0)\n",
      "Requirement already satisfied: notebook==6.5.5 in /usr/local/lib/python3.10/dist-packages (from google.colab) (6.5.5)\n",
      "Requirement already satisfied: pandas==1.5.3 in /usr/local/lib/python3.10/dist-packages (from google.colab) (1.5.3)\n",
      "Requirement already satisfied: portpicker==1.5.2 in /usr/local/lib/python3.10/dist-packages (from google.colab) (1.5.2)\n",
      "Requirement already satisfied: requests==2.31.0 in /usr/local/lib/python3.10/dist-packages (from google.colab) (2.31.0)\n",
      "Requirement already satisfied: tornado==6.3.3 in /usr/local/lib/python3.10/dist-packages (from google.colab) (6.3.3)\n",
      "Requirement already satisfied: cachetools<6.0,>=2.0.0 in /usr/local/lib/python3.10/dist-packages (from google-auth==2.27.0->google.colab) (5.3.3)\n",
      "Requirement already satisfied: pyasn1-modules>=0.2.1 in /usr/local/lib/python3.10/dist-packages (from google-auth==2.27.0->google.colab) (0.4.0)\n",
      "Requirement already satisfied: rsa<5,>=3.1.4 in /usr/local/lib/python3.10/dist-packages (from google-auth==2.27.0->google.colab) (4.9)\n",
      "Requirement already satisfied: ipython-genutils in /usr/local/lib/python3.10/dist-packages (from ipykernel==5.5.6->google.colab) (0.2.0)\n",
      "Requirement already satisfied: traitlets>=4.1.0 in /usr/local/lib/python3.10/dist-packages (from ipykernel==5.5.6->google.colab) (5.7.1)\n",
      "Requirement already satisfied: jupyter-client in /usr/local/lib/python3.10/dist-packages (from ipykernel==5.5.6->google.colab) (6.1.12)\n",
      "Requirement already satisfied: setuptools>=18.5 in /usr/local/lib/python3.10/dist-packages (from ipython==7.34.0->google.colab) (67.7.2)\n",
      "Collecting jedi>=0.16 (from ipython==7.34.0->google.colab)\n",
      "  Downloading jedi-0.19.1-py2.py3-none-any.whl (1.6 MB)\n",
      "\u001b[2K     \u001b[90m━━━━━━━━━━━━━━━━━━━━━━━━━━━━━━━━━━━━━━━━\u001b[0m \u001b[32m1.6/1.6 MB\u001b[0m \u001b[31m6.3 MB/s\u001b[0m eta \u001b[36m0:00:00\u001b[0m\n",
      "\u001b[?25hRequirement already satisfied: decorator in /usr/local/lib/python3.10/dist-packages (from ipython==7.34.0->google.colab) (4.4.2)\n",
      "Requirement already satisfied: pickleshare in /usr/local/lib/python3.10/dist-packages (from ipython==7.34.0->google.colab) (0.7.5)\n",
      "Requirement already satisfied: prompt-toolkit!=3.0.0,!=3.0.1,<3.1.0,>=2.0.0 in /usr/local/lib/python3.10/dist-packages (from ipython==7.34.0->google.colab) (3.0.43)\n",
      "Requirement already satisfied: pygments in /usr/local/lib/python3.10/dist-packages (from ipython==7.34.0->google.colab) (2.16.1)\n",
      "Requirement already satisfied: backcall in /usr/local/lib/python3.10/dist-packages (from ipython==7.34.0->google.colab) (0.2.0)\n",
      "Requirement already satisfied: matplotlib-inline in /usr/local/lib/python3.10/dist-packages (from ipython==7.34.0->google.colab) (0.1.6)\n",
      "Requirement already satisfied: pexpect>4.3 in /usr/local/lib/python3.10/dist-packages (from ipython==7.34.0->google.colab) (4.9.0)\n",
      "Requirement already satisfied: jinja2 in /usr/local/lib/python3.10/dist-packages (from notebook==6.5.5->google.colab) (3.1.3)\n",
      "Requirement already satisfied: pyzmq<25,>=17 in /usr/local/lib/python3.10/dist-packages (from notebook==6.5.5->google.colab) (23.2.1)\n",
      "Requirement already satisfied: argon2-cffi in /usr/local/lib/python3.10/dist-packages (from notebook==6.5.5->google.colab) (23.1.0)\n",
      "Requirement already satisfied: jupyter-core>=4.6.1 in /usr/local/lib/python3.10/dist-packages (from notebook==6.5.5->google.colab) (5.7.2)\n",
      "Requirement already satisfied: nbformat in /usr/local/lib/python3.10/dist-packages (from notebook==6.5.5->google.colab) (5.10.3)\n",
      "Requirement already satisfied: nbconvert>=5 in /usr/local/lib/python3.10/dist-packages (from notebook==6.5.5->google.colab) (6.5.4)\n",
      "Requirement already satisfied: nest-asyncio>=1.5 in /usr/local/lib/python3.10/dist-packages (from notebook==6.5.5->google.colab) (1.6.0)\n",
      "Requirement already satisfied: Send2Trash>=1.8.0 in /usr/local/lib/python3.10/dist-packages (from notebook==6.5.5->google.colab) (1.8.2)\n",
      "Requirement already satisfied: terminado>=0.8.3 in /usr/local/lib/python3.10/dist-packages (from notebook==6.5.5->google.colab) (0.18.1)\n",
      "Requirement already satisfied: prometheus-client in /usr/local/lib/python3.10/dist-packages (from notebook==6.5.5->google.colab) (0.20.0)\n",
      "Requirement already satisfied: nbclassic>=0.4.7 in /usr/local/lib/python3.10/dist-packages (from notebook==6.5.5->google.colab) (1.0.0)\n",
      "Requirement already satisfied: python-dateutil>=2.8.1 in /usr/local/lib/python3.10/dist-packages (from pandas==1.5.3->google.colab) (2.8.2)\n",
      "Requirement already satisfied: pytz>=2020.1 in /usr/local/lib/python3.10/dist-packages (from pandas==1.5.3->google.colab) (2023.4)\n",
      "Requirement already satisfied: numpy>=1.21.0 in /usr/local/lib/python3.10/dist-packages (from pandas==1.5.3->google.colab) (1.25.2)\n",
      "Requirement already satisfied: psutil in /usr/local/lib/python3.10/dist-packages (from portpicker==1.5.2->google.colab) (5.9.5)\n",
      "Requirement already satisfied: charset-normalizer<4,>=2 in /usr/local/lib/python3.10/dist-packages (from requests==2.31.0->google.colab) (3.3.2)\n",
      "Requirement already satisfied: idna<4,>=2.5 in /usr/local/lib/python3.10/dist-packages (from requests==2.31.0->google.colab) (3.6)\n",
      "Requirement already satisfied: urllib3<3,>=1.21.1 in /usr/local/lib/python3.10/dist-packages (from requests==2.31.0->google.colab) (2.0.7)\n",
      "Requirement already satisfied: certifi>=2017.4.17 in /usr/local/lib/python3.10/dist-packages (from requests==2.31.0->google.colab) (2024.2.2)\n",
      "Requirement already satisfied: parso<0.9.0,>=0.8.3 in /usr/local/lib/python3.10/dist-packages (from jedi>=0.16->ipython==7.34.0->google.colab) (0.8.3)\n",
      "Requirement already satisfied: platformdirs>=2.5 in /usr/local/lib/python3.10/dist-packages (from jupyter-core>=4.6.1->notebook==6.5.5->google.colab) (4.2.0)\n",
      "Requirement already satisfied: jupyter-server>=1.8 in /usr/local/lib/python3.10/dist-packages (from nbclassic>=0.4.7->notebook==6.5.5->google.colab) (1.24.0)\n",
      "Requirement already satisfied: notebook-shim>=0.2.3 in /usr/local/lib/python3.10/dist-packages (from nbclassic>=0.4.7->notebook==6.5.5->google.colab) (0.2.4)\n",
      "Requirement already satisfied: lxml in /usr/local/lib/python3.10/dist-packages (from nbconvert>=5->notebook==6.5.5->google.colab) (4.9.4)\n",
      "Requirement already satisfied: beautifulsoup4 in /usr/local/lib/python3.10/dist-packages (from nbconvert>=5->notebook==6.5.5->google.colab) (4.12.3)\n",
      "Requirement already satisfied: bleach in /usr/local/lib/python3.10/dist-packages (from nbconvert>=5->notebook==6.5.5->google.colab) (6.1.0)\n",
      "Requirement already satisfied: defusedxml in /usr/local/lib/python3.10/dist-packages (from nbconvert>=5->notebook==6.5.5->google.colab) (0.7.1)\n",
      "Requirement already satisfied: entrypoints>=0.2.2 in /usr/local/lib/python3.10/dist-packages (from nbconvert>=5->notebook==6.5.5->google.colab) (0.4)\n",
      "Requirement already satisfied: jupyterlab-pygments in /usr/local/lib/python3.10/dist-packages (from nbconvert>=5->notebook==6.5.5->google.colab) (0.3.0)\n",
      "Requirement already satisfied: MarkupSafe>=2.0 in /usr/local/lib/python3.10/dist-packages (from nbconvert>=5->notebook==6.5.5->google.colab) (2.1.5)\n",
      "Requirement already satisfied: mistune<2,>=0.8.1 in /usr/local/lib/python3.10/dist-packages (from nbconvert>=5->notebook==6.5.5->google.colab) (0.8.4)\n",
      "Requirement already satisfied: nbclient>=0.5.0 in /usr/local/lib/python3.10/dist-packages (from nbconvert>=5->notebook==6.5.5->google.colab) (0.10.0)\n",
      "Requirement already satisfied: packaging in /usr/local/lib/python3.10/dist-packages (from nbconvert>=5->notebook==6.5.5->google.colab) (23.2)\n",
      "Requirement already satisfied: pandocfilters>=1.4.1 in /usr/local/lib/python3.10/dist-packages (from nbconvert>=5->notebook==6.5.5->google.colab) (1.5.1)\n",
      "Requirement already satisfied: tinycss2 in /usr/local/lib/python3.10/dist-packages (from nbconvert>=5->notebook==6.5.5->google.colab) (1.2.1)\n",
      "Requirement already satisfied: fastjsonschema in /usr/local/lib/python3.10/dist-packages (from nbformat->notebook==6.5.5->google.colab) (2.19.1)\n",
      "Requirement already satisfied: jsonschema>=2.6 in /usr/local/lib/python3.10/dist-packages (from nbformat->notebook==6.5.5->google.colab) (4.19.2)\n",
      "Requirement already satisfied: ptyprocess>=0.5 in /usr/local/lib/python3.10/dist-packages (from pexpect>4.3->ipython==7.34.0->google.colab) (0.7.0)\n",
      "Requirement already satisfied: wcwidth in /usr/local/lib/python3.10/dist-packages (from prompt-toolkit!=3.0.0,!=3.0.1,<3.1.0,>=2.0.0->ipython==7.34.0->google.colab) (0.2.13)\n",
      "Requirement already satisfied: pyasn1<0.7.0,>=0.4.6 in /usr/local/lib/python3.10/dist-packages (from pyasn1-modules>=0.2.1->google-auth==2.27.0->google.colab) (0.6.0)\n",
      "Requirement already satisfied: six>=1.5 in /usr/local/lib/python3.10/dist-packages (from python-dateutil>=2.8.1->pandas==1.5.3->google.colab) (1.16.0)\n",
      "Requirement already satisfied: argon2-cffi-bindings in /usr/local/lib/python3.10/dist-packages (from argon2-cffi->notebook==6.5.5->google.colab) (21.2.0)\n",
      "Requirement already satisfied: attrs>=22.2.0 in /usr/local/lib/python3.10/dist-packages (from jsonschema>=2.6->nbformat->notebook==6.5.5->google.colab) (23.2.0)\n",
      "Requirement already satisfied: jsonschema-specifications>=2023.03.6 in /usr/local/lib/python3.10/dist-packages (from jsonschema>=2.6->nbformat->notebook==6.5.5->google.colab) (2023.12.1)\n",
      "Requirement already satisfied: referencing>=0.28.4 in /usr/local/lib/python3.10/dist-packages (from jsonschema>=2.6->nbformat->notebook==6.5.5->google.colab) (0.34.0)\n",
      "Requirement already satisfied: rpds-py>=0.7.1 in /usr/local/lib/python3.10/dist-packages (from jsonschema>=2.6->nbformat->notebook==6.5.5->google.colab) (0.18.0)\n",
      "Requirement already satisfied: anyio<4,>=3.1.0 in /usr/local/lib/python3.10/dist-packages (from jupyter-server>=1.8->nbclassic>=0.4.7->notebook==6.5.5->google.colab) (3.7.1)\n",
      "Requirement already satisfied: websocket-client in /usr/local/lib/python3.10/dist-packages (from jupyter-server>=1.8->nbclassic>=0.4.7->notebook==6.5.5->google.colab) (1.7.0)\n",
      "Requirement already satisfied: cffi>=1.0.1 in /usr/local/lib/python3.10/dist-packages (from argon2-cffi-bindings->argon2-cffi->notebook==6.5.5->google.colab) (1.16.0)\n",
      "Requirement already satisfied: soupsieve>1.2 in /usr/local/lib/python3.10/dist-packages (from beautifulsoup4->nbconvert>=5->notebook==6.5.5->google.colab) (2.5)\n",
      "Requirement already satisfied: webencodings in /usr/local/lib/python3.10/dist-packages (from bleach->nbconvert>=5->notebook==6.5.5->google.colab) (0.5.1)\n",
      "Requirement already satisfied: sniffio>=1.1 in /usr/local/lib/python3.10/dist-packages (from anyio<4,>=3.1.0->jupyter-server>=1.8->nbclassic>=0.4.7->notebook==6.5.5->google.colab) (1.3.1)\n",
      "Requirement already satisfied: exceptiongroup in /usr/local/lib/python3.10/dist-packages (from anyio<4,>=3.1.0->jupyter-server>=1.8->nbclassic>=0.4.7->notebook==6.5.5->google.colab) (1.2.0)\n",
      "Requirement already satisfied: pycparser in /usr/local/lib/python3.10/dist-packages (from cffi>=1.0.1->argon2-cffi-bindings->argon2-cffi->notebook==6.5.5->google.colab) (2.21)\n",
      "Installing collected packages: jedi\n",
      "Successfully installed jedi-0.19.1\n"
     ]
    }
   ],
   "source": [
    " !pip install google.colab"
   ]
  },
  {
   "cell_type": "code",
   "execution_count": null,
   "metadata": {
    "colab": {
     "base_uri": "https://localhost:8080/",
     "height": 17
    },
    "execution": {
     "iopub.execute_input": "2022-12-02T13:24:59.241025Z",
     "iopub.status.busy": "2022-12-02T13:24:59.240656Z",
     "iopub.status.idle": "2022-12-02T13:24:59.248269Z",
     "shell.execute_reply": "2022-12-02T13:24:59.247228Z",
     "shell.execute_reply.started": "2022-12-02T13:24:59.240987Z"
    },
    "id": "CgWOwLKVAXyl",
    "outputId": "b6ec87e5-19e0-4a23-99d1-f25b9f11c557"
   },
   "outputs": [
    {
     "data": {
      "application/javascript": [
       "\n",
       "    async function download(id, filename, size) {\n",
       "      if (!google.colab.kernel.accessAllowed) {\n",
       "        return;\n",
       "      }\n",
       "      const div = document.createElement('div');\n",
       "      const label = document.createElement('label');\n",
       "      label.textContent = `Downloading \"${filename}\": `;\n",
       "      div.appendChild(label);\n",
       "      const progress = document.createElement('progress');\n",
       "      progress.max = size;\n",
       "      div.appendChild(progress);\n",
       "      document.body.appendChild(div);\n",
       "\n",
       "      const buffers = [];\n",
       "      let downloaded = 0;\n",
       "\n",
       "      const channel = await google.colab.kernel.comms.open(id);\n",
       "      // Send a message to notify the kernel that we're ready.\n",
       "      channel.send({})\n",
       "\n",
       "      for await (const message of channel.messages) {\n",
       "        // Send a message to notify the kernel that we're ready.\n",
       "        channel.send({})\n",
       "        if (message.buffers) {\n",
       "          for (const buffer of message.buffers) {\n",
       "            buffers.push(buffer);\n",
       "            downloaded += buffer.byteLength;\n",
       "            progress.value = downloaded;\n",
       "          }\n",
       "        }\n",
       "      }\n",
       "      const blob = new Blob(buffers, {type: 'application/binary'});\n",
       "      const a = document.createElement('a');\n",
       "      a.href = window.URL.createObjectURL(blob);\n",
       "      a.download = filename;\n",
       "      div.appendChild(a);\n",
       "      a.click();\n",
       "      div.remove();\n",
       "    }\n",
       "  "
      ],
      "text/plain": [
       "<IPython.core.display.Javascript object>"
      ]
     },
     "metadata": {},
     "output_type": "display_data"
    },
    {
     "data": {
      "application/javascript": [
       "download(\"download_9621ac52-9a61-4e81-bff7-14580b478e27\", \"output.mid\", 777)"
      ],
      "text/plain": [
       "<IPython.core.display.Javascript object>"
      ]
     },
     "metadata": {},
     "output_type": "display_data"
    }
   ],
   "source": [
    " from google.colab import files\n",
    " files.download(out_file)"
   ]
  },
  {
   "cell_type": "markdown",
   "metadata": {
    "id": "5UUClwa3AXyl"
   },
   "source": [
    "Visualize the generated notes.\n",
    "\n"
   ]
  },
  {
   "cell_type": "code",
   "execution_count": null,
   "metadata": {
    "colab": {
     "base_uri": "https://localhost:8080/",
     "height": 359
    },
    "execution": {
     "iopub.execute_input": "2022-12-02T13:24:59.250361Z",
     "iopub.status.busy": "2022-12-02T13:24:59.249887Z",
     "iopub.status.idle": "2022-12-02T13:24:59.59642Z",
     "shell.execute_reply": "2022-12-02T13:24:59.595435Z",
     "shell.execute_reply.started": "2022-12-02T13:24:59.250325Z"
    },
    "id": "1mkpMFboAXym",
    "outputId": "76692a9a-f735-49c2-9353-99912b60a02d"
   },
   "outputs": [
    {
     "data": {
      "image/png": "[encoded data removed]",
      "text/plain": [
       "<Figure size 2000x400 with 1 Axes>"
      ]
     },
     "metadata": {},
     "output_type": "display_data"
    }
   ],
   "source": [
    "plot_piano_roll(generated_notes)"
   ]
  },
  {
   "cell_type": "markdown",
   "metadata": {
    "id": "H6zv_IxKAXym"
   },
   "source": [
    "Check the distributions of pitch, step and duration.\n",
    "\n"
   ]
  },
  {
   "cell_type": "code",
   "execution_count": null,
   "metadata": {
    "colab": {
     "base_uri": "https://localhost:8080/",
     "height": 465
    },
    "execution": {
     "iopub.execute_input": "2022-12-02T13:24:59.598358Z",
     "iopub.status.busy": "2022-12-02T13:24:59.598016Z",
     "iopub.status.idle": "2022-12-02T13:25:00.131189Z",
     "shell.execute_reply": "2022-12-02T13:25:00.130254Z",
     "shell.execute_reply.started": "2022-12-02T13:24:59.598321Z"
    },
    "id": "YfTZHJu7AXym",
    "outputId": "3ac1edb9-3113-4949-c00a-5431a0d5e640"
   },
   "outputs": [
    {
     "data": {
      "image/png": "[encoded data removed]",
      "text/plain": [
       "<Figure size 1500x500 with 3 Axes>"
      ]
     },
     "metadata": {},
     "output_type": "display_data"
    }
   ],
   "source": [
    "plot_distributions(generated_notes)"
   ]
  },
  {
   "cell_type": "markdown",
   "metadata": {
    "id": "EJdM0OlbAXyn"
   },
   "source": [
    "In the above plots, you will notice the change in distribution of the note variables. Since there is a feedback loop between the model's outputs and inputs, the model tends to generate similar sequences of outputs to reduce the loss. This is particularly relevant for step and duration, which uses the MSE loss. For pitch, you can increase the randomness by increasing the temperature in predict_next_note.\n",
    "\n",
    "Next steps\n",
    "This tutorial demonstrated the mechanics of using an RNN to generate sequences of notes from a dataset of MIDI files. To learn more, you can visit the closely related Text generation with an RNN tutorial, which contains additional diagrams and explanations.\n",
    "\n",
    "One of the alternatives to using RNNs for music generation is using GANs. Rather than generating audio, a GAN-based approach can generate an entire sequence in parallel. The Magenta team has done impressive work on this approach with GANSynth. You can also find many wonderful music and art projects and open-source code on Magenta project website."
   ]
  }
 ],
 "metadata": {
  "colab": {
   "provenance": []
  },
  "kaggle": {
   "accelerator": "none",
   "dataSources": [],
   "isGpuEnabled": false,
   "isInternetEnabled": false,
   "language": "python",
   "sourceType": "notebook"
  },
  "kernelspec": {
   "display_name": "Python 3 (ipykernel)",
   "language": "python",
   "name": "python3"
  },
  "language_info": {
   "codemirror_mode": {
    "name": "ipython",
    "version": 3
   },
   "file_extension": ".py",
   "mimetype": "text/x-python",
   "name": "python",
   "nbconvert_exporter": "python",
   "pygments_lexer": "ipython3",
   "version": "3.11.7"
  }
 },
 "nbformat": 4,
 "nbformat_minor": 4
}
